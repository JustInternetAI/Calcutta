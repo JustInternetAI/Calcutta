{
 "cells": [
  {
   "cell_type": "code",
   "execution_count": null,
   "id": "0",
   "metadata": {},
   "outputs": [],
   "source": [
    "import pickle\n",
    "import random\n",
    "import numpy as np\n",
    "import sys\n",
    "from pathlib import Path\n",
    "import importlib\n",
    "\n",
    "# Or safer for notebooks where __file__ is not defined:\n",
    "sys.path.append(str(Path().resolve().parent / \"src\"))\n",
    "\n",
    "import golf_utils\n",
    "import golf_scoring\n",
    "importlib.reload(golf_scoring)\n",
    "\n",
    "import golf_utils\n",
    "\n",
    "from golf_utils import postprocess_players\n",
    "import golf_scoring\n",
    "from collections import defaultdict\n",
    "from golf_classes import Player, PlayerRoundInfo, Tournament, Round, Team\n",
    "from golf_scoring import compute_real_stableford, simulate_round,  stableford_points, calibrated_simulate_round, hole_pars\n"
   ]
  },
  {
   "cell_type": "code",
   "execution_count": null,
   "id": "1",
   "metadata": {},
   "outputs": [],
   "source": []
  },
  {
   "cell_type": "code",
   "execution_count": null,
   "id": "2",
   "metadata": {},
   "outputs": [],
   "source": [
    "def simulate_tournament(cteams, scoring_func, num_simulations=10000):\n",
    "    for cteam in cteams:\n",
    "        cteam.simulated_scores = []\n",
    "\n",
    "    # Run simulations\n",
    "    for _ in range(num_simulations):\n",
    "        sim_results = []\n",
    "        for cteam in cteams:\n",
    "            sim_score = cteam.simulate_score(scoring_func)\n",
    "            cteam.simulated_scores.append(sim_score)\n",
    "            sim_results.append((cteam, sim_score))\n",
    "\n",
    "        # Sort to find placements\n",
    "        sim_results.sort(key=lambda x: x[1], reverse=True)\n",
    "        winner = sim_results[0][0]\n",
    "        top3 = [res[0] for res in sim_results[:3]]\n",
    "\n",
    "        # Track placement counts\n",
    "        winner.placement_probs['win'] = winner.placement_probs.get('win', 0) + 1\n",
    "        for team in top3:\n",
    "            team.placement_probs['top3'] = team.placement_probs.get('top3', 0) + 1\n",
    "\n",
    "    # Normalize counts to probabilities\n",
    "    for cteam in cteams:\n",
    "        cteam.placement_probs['win'] = cteam.placement_probs.get('win', 0) / num_simulations\n",
    "        cteam.placement_probs['top3'] = cteam.placement_probs.get('top3', 0) / num_simulations\n"
   ]
  }
 ],
 "metadata": {
  "language_info": {
   "name": "python"
  }
 },
 "nbformat": 4,
 "nbformat_minor": 5
}
