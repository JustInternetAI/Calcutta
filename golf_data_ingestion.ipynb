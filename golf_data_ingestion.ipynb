{
 "cells": [
  {
   "cell_type": "markdown",
   "id": "0",
   "metadata": {},
   "source": [
    "# 1. Install Required Libraries\n",
    "(Skip if already installed)"
   ]
  },
  {
   "cell_type": "code",
   "execution_count": null,
   "id": "1",
   "metadata": {},
   "outputs": [],
   "source": [
    "# Uncomment below if needed:\n",
    "# !pip install pandas openpyxl"
   ]
  },
  {
   "cell_type": "markdown",
   "id": "2",
   "metadata": {},
   "source": [
    "# 2. Define Data Classes"
   ]
  },
  {
   "cell_type": "code",
   "execution_count": null,
   "id": "3",
   "metadata": {},
   "outputs": [],
   "source": [
    "from golf_classes import Player, PlayerRoundInfo, Tournament, Round, Team\n"
   ]
  },
  {
   "cell_type": "code",
   "execution_count": null,
   "id": "4",
   "metadata": {},
   "outputs": [],
   "source": [
    "golf_data_file = \"golf_data.pkl\"\n",
    "\n",
    "mm_team_file = \"/home/justin/JustInternetAI/Calcutta/Data/MMTeamData.xlsx\"\n",
    "# Update paths to  cleaned files\n",
    "path_2023 = '/home/justin/JustInternetAI/Calcutta/Data/2023_cleaned_events_fixed_V2.xlsx'\n",
    "path_2024 = '/home/justin/JustInternetAI/Calcutta/Data/2024_cleaned_events_V2.xlsx'\n",
    "\n",
    "path_2025_ind = '/home/justin/JustInternetAI/Calcutta/Data/cleaned_hole_by_hole_2025.xlsx'\n",
    "path_2024_ind = '/home/justin/JustInternetAI/Calcutta/Data/cleaned_hole_by_hole_2024.xlsx'\n"
   ]
  },
  {
   "cell_type": "code",
   "execution_count": null,
   "id": "5",
   "metadata": {},
   "outputs": [],
   "source": [
    "calcutta_data = {\n",
    "    \"players\": {},\n",
    "    \"tournaments\": {},\n",
    "    \"teams\": []\n",
    "}\n",
    "\n",
    "players = calcutta_data[\"players\"]\n",
    "tournaments = calcutta_data[\"tournaments\"]\n",
    "teams = calcutta_data[\"teams\"]  # Optional global team structure if used"
   ]
  },
  {
   "cell_type": "code",
   "execution_count": null,
   "id": "6",
   "metadata": {},
   "outputs": [],
   "source": [
    "import importlib\n",
    "import golf_classes \n",
    "\n",
    "importlib.reload(golf_classes)\n",
    "\n",
    "Player = golf_classes.Player\n",
    "PlayerRoundInfo = golf_classes.PlayerRoundInfo\n",
    "Tournament = golf_classes.Tournament\n",
    "Round = golf_classes.Round\n",
    "Team = golf_classes.Team"
   ]
  },
  {
   "cell_type": "markdown",
   "id": "7",
   "metadata": {},
   "source": [
    "# 3. Load Cleaned Excel Files"
   ]
  },
  {
   "cell_type": "code",
   "execution_count": null,
   "id": "8",
   "metadata": {},
   "outputs": [],
   "source": [
    "\n",
    "import pandas as pd\n",
    "\n",
    "\n",
    "sheets_2023 = pd.ExcelFile(path_2023).sheet_names\n",
    "sheets_2024 = pd.ExcelFile(path_2024).sheet_names\n",
    "sheets_2024_ind = pd.ExcelFile(path_2024_ind).sheet_names\n",
    "sheets_2025_ind = pd.ExcelFile(path_2025_ind).sheet_names\n"
   ]
  },
  {
   "cell_type": "code",
   "execution_count": null,
   "id": "9",
   "metadata": {},
   "outputs": [],
   "source": [
    "\n",
    "# --- Course Setup ---\n",
    "hole_handicap_ratings = [5, 13, 17, 3, 11, 9, 1, 15, 7, 10, 6, 18, 14, 2, 16, 4, 12, 8]\n",
    "hole_pars = [4, 4, 3, 4, 3, 4, 4, 5, 4, 4, 4, 3, 5, 4, 3, 4, 5, 4]\n",
    "\n",
    "\n",
    "\n",
    "# --- Compute strokes received per hole ---\n",
    "def strokes_received_per_hole(player_handicap):\n",
    "    strokes = [0] * 18\n",
    "    for i in range(18):\n",
    "        hcap = hole_handicap_ratings[i]\n",
    "        if player_handicap >= hcap:\n",
    "            strokes[i] += 1\n",
    "        if player_handicap > 18 and player_handicap >= hcap + 18:\n",
    "            strokes[i] += 1\n",
    "    return strokes"
   ]
  },
  {
   "cell_type": "markdown",
   "id": "10",
   "metadata": {},
   "source": [
    "# 4. Build Player and Tournament Structures"
   ]
  },
  {
   "cell_type": "code",
   "execution_count": null,
   "id": "11",
   "metadata": {},
   "outputs": [],
   "source": [
    "\n",
    "def get_or_create_player(player_name):\n",
    "    global players, tournaments, teams\n",
    "    if player_name not in players:\n",
    "        players[player_name] = Player(player_name)\n",
    "    return players[player_name]\n",
    "\n",
    "def check_for_invalid_players():\n",
    "    global players, tournaments, teams\n",
    "    print(\"\\n🔍 Scanning for invalid player entries...\")\n",
    "    for key, value in players.items():\n",
    "        if not isinstance(value, Player):\n",
    "            print(f\"⚠️ Invalid entry: key={key} | type={type(value)} | value={value}\")\n",
    "\n",
    "def load_event(file_path, sheet_name, year, verbose=False):\n",
    "    import pandas as pd\n",
    "    import re\n",
    "\n",
    "    global players, tournaments, teams\n",
    "    df = pd.read_excel(file_path, sheet_name=sheet_name)\n",
    "    df.columns = df.columns.map(str)  # Normalize all column headers to strings\n",
    "\n",
    "    # Temporarily defer tournament name to use per-row event name\n",
    "    # tournament creation moved to after round_obj assignment\n",
    "    # round_obj creation moved to after tournament_name is determined from rows\n",
    "\n",
    "    # --- Detect gross column ---\n",
    "    gross_col = next((col for col in df.columns if col.strip().lower() in ['total', 'gross', 'gross score']), None)\n",
    "    if gross_col is None:\n",
    "        raise ValueError(f\"❌ Could not find a 'Gross' column in sheet: {sheet_name}\")\n",
    "\n",
    "    # --- Determine hole column naming pattern ---\n",
    "    hole_cols = []\n",
    "    if any(col in df.columns for col in [str(i) for i in range(1, 19)]):\n",
    "        hole_cols = [str(i) for i in range(1, 19) if str(i) in df.columns]  # 2023 style\n",
    "    elif any(re.match(r'Hole[1-9][0-8]?$', col) for col in df.columns):\n",
    "        hole_cols = [col for col in df.columns if re.match(r'Hole[1-9][0-8]?$', col)]  # 2024 style\n",
    "\n",
    "    # --- Identify score type by comparing sum to reported gross ---\n",
    "    first_data_row = df.iloc[1] if df.iloc[0].isnull().all() else df.iloc[0]\n",
    "    try:\n",
    "        hole_scores_first = [int(first_data_row[col]) for col in hole_cols]\n",
    "    except (ValueError, TypeError):\n",
    "        print(f\"❌ Invalid hole score in first row of sheet: {sheet_name}. Skipping this sheet.\")\n",
    "        return\n",
    "\n",
    "    total_hole_score_first = sum(hole_scores_first)\n",
    "    reported_gross = first_data_row[gross_col]\n",
    "    scores_are_net = abs(total_hole_score_first - reported_gross) > 1e-3\n",
    "\n",
    "    if verbose:\n",
    "        score_format = 'NET' if scores_are_net else 'GROSS'\n",
    "        print(f\"📄 First Row in '{sheet_name}':\")\n",
    "        print(f\"Player: {first_data_row['Player']}, Handicap: {first_data_row['Handicap']}, Tee: {first_data_row['Tee']}\")\n",
    "        print(f\"Hole Columns: {hole_cols}\")\n",
    "        print(f\"Hole Scores: {hole_scores_first}\")\n",
    "        print(f\"Sum of Hole Scores: {total_hole_score_first}\")\n",
    "        print(f\"Reported Gross: {reported_gross}\")\n",
    "        print(f\"📄 Loaded '{sheet_name}' ({year}) as {score_format} hole-by-hole scoring using column '{gross_col}'\")\n",
    "\n",
    "    issue_count = 0\n",
    "    round_obj = None  # Will initialize after reading first valid row\n",
    "    tournament = None\n",
    "    for idx, row in df.iterrows():\n",
    "        try:\n",
    "            event_name = row.get('Event')\n",
    "            if not event_name:\n",
    "                raise ValueError(\"Missing event name in 'Event' column.\")\n",
    "\n",
    "            if tournament is None:\n",
    "                tournament_name = f\"{event_name}\"\n",
    "                tournament = Tournament(tournament_name)\n",
    "                round_obj = Round(tournament_name, round_number=1)\n",
    "            handicap = row['Handicap']\n",
    "            tee = row['Tee']\n",
    "            date = row.get('Date') if 'Date' in row and pd.notnull(row['Date']) else None\n",
    "            gross = row[gross_col]\n",
    "            raw_hole_scores = [int(row[col]) for col in hole_cols]\n",
    "\n",
    "            if scores_are_net:\n",
    "                strokes = strokes_received_per_hole(handicap)\n",
    "                adjusted_hole_scores = [raw_hole_scores[i] + strokes[i] for i in range(18)]\n",
    "            else:\n",
    "                adjusted_hole_scores = raw_hole_scores\n",
    "\n",
    "            player = get_or_create_player(row['Player'])\n",
    "            player_round = PlayerRoundInfo(\n",
    "                player=player,\n",
    "                tournament_name=tournament_name,\n",
    "                round_number=1,\n",
    "                handicap=handicap,\n",
    "                tee=tee,\n",
    "                hole_scores=adjusted_hole_scores,\n",
    "                total=gross,\n",
    "                net=None,\n",
    "                date=date\n",
    "            )\n",
    "\n",
    "            player.rounds.append(player_round)\n",
    "            round_obj.player_rounds.append(player_round)\n",
    "        except Exception as e:\n",
    "            print(f\"❌ Aborting load: error in sheet '{sheet_name}', row {idx + 2} (Excel row number).\\n  Error: {e}\\n  Row content: {row.to_dict()}\")\n",
    "\n",
    "    if tournament and round_obj:\n",
    "        tournament.rounds.append(round_obj)\n",
    "        calcutta_data[\"tournaments\"][tournament.name] = tournament\n"
   ]
  },
  {
   "cell_type": "code",
   "execution_count": null,
   "id": "12",
   "metadata": {},
   "outputs": [],
   "source": [
    "def reset_all_data():\n",
    "    global players, tournaments, teams\n",
    "    players.clear()\n",
    "    tournaments.clear()\n",
    "    teams.clear()\n",
    "    print(\"🧹 All data has been reset.\")"
   ]
  },
  {
   "cell_type": "code",
   "execution_count": null,
   "id": "13",
   "metadata": {},
   "outputs": [],
   "source": [
    "reset_all_data()"
   ]
  },
  {
   "cell_type": "markdown",
   "id": "14",
   "metadata": {},
   "source": [
    "# 5. Load All Events"
   ]
  },
  {
   "cell_type": "code",
   "execution_count": null,
   "id": "15",
   "metadata": {},
   "outputs": [],
   "source": [
    "\n",
    "reset_all_data()\n",
    "\n",
    "# Load all 2023 events\n",
    "for sheet in sheets_2023:\n",
    "    load_event(path_2023, sheet, year=2023)\n",
    "\n",
    "# Load all 2024 events\n",
    "for sheet in sheets_2024:\n",
    "    load_event(path_2024, sheet, year=2024)\n",
    "\n",
    "     # Load all 2024 individual\n",
    "for sheet in sheets_2024_ind:\n",
    "    load_event(path_2024_ind, sheet, year=2024)\n",
    "\n",
    "     # Load all 2024 events\n",
    "for sheet in sheets_2025_ind:\n",
    "    load_event(path_2025_ind, sheet, year=2025)\n",
    "\n",
    "mark_duplicate_individual_rounds()   \n",
    "\n",
    "load_teams_from_excel(mm_team_file)\n",
    "\n"
   ]
  },
  {
   "cell_type": "code",
   "execution_count": null,
   "id": "16",
   "metadata": {},
   "outputs": [],
   "source": [
    "\n",
    "# List all players\n",
    "print(f\"Loaded {len(players)} players.\")\n",
    "print(list(players.keys())[:10])  # Show first 10 players\n",
    "\n",
    "# List all tournaments\n",
    "print(f\"Loaded {len(tournaments)} tournaments.\")\n",
    "print(list(tournaments.keys())[:5])\n",
    "\n",
    "# Loop through all players and print their name and all rounds they played\n",
    "for player_name, player_obj in players.items():\n",
    "    print(f\"\\n{player_name} played {len(player_obj.rounds)} rounds:\")\n",
    "    for round_info in player_obj.rounds:\n",
    "        print(f\"- {round_info.tournament_name} (Net {round_info.net})\")"
   ]
  },
  {
   "cell_type": "code",
   "execution_count": null,
   "id": "17",
   "metadata": {},
   "outputs": [],
   "source": [
    "print(f'players: {len(players)}, tournaments: {len(tournaments)}, teams: {len(teams)}')\n",
    "\n",
    "print(f\" calcutta_data players: {len(calcutta_data['players'])}, teams: {len(calcutta_data['teams'])}, tournaments: {len(calcutta_data['tournaments'])}\")"
   ]
  },
  {
   "cell_type": "markdown",
   "id": "18",
   "metadata": {},
   "source": [
    "# 6. Save Player and Tournaments to a file"
   ]
  },
  {
   "cell_type": "code",
   "execution_count": null,
   "id": "19",
   "metadata": {},
   "outputs": [],
   "source": [
    "\n",
    "import pickle\n",
    "\n",
    "def save_data(path=golf_data_file):\n",
    "    with open(path, \"wb\") as f:\n",
    "        pickle.dump(calcutta_data, f)\n",
    "    print(\"✅ Data saved successfully.\")\n",
    "    print(f\"players: {len(calcutta_data['players'])}, teams: {len(calcutta_data['teams'])}, tournaments: {len(calcutta_data['tournaments'])}\")\n",
    "\n",
    "def load_data(path=golf_data_file):\n",
    "    global calcutta_data, players, tournaments, teams\n",
    "    with open(path, \"rb\") as f:\n",
    "        loaded = pickle.load(f)\n",
    "\n",
    "    calcutta_data[\"players\"] = loaded.get(\"players\", {})\n",
    "    calcutta_data[\"tournaments\"] = loaded.get(\"tournaments\", {})\n",
    "    calcutta_data[\"teams\"] = loaded.get(\"teams\", [])\n",
    "\n",
    "    # Rebind the globals for convenience\n",
    "    players = calcutta_data[\"players\"]\n",
    "    tournaments = calcutta_data[\"tournaments\"]\n",
    "    teams = calcutta_data[\"teams\"]\n",
    "\n",
    "    print(\"✅ Data loaded successfully.\")"
   ]
  },
  {
   "cell_type": "code",
   "execution_count": null,
   "id": "20",
   "metadata": {},
   "outputs": [],
   "source": [
    "# Load existing data (populates calcutta_data globally)\n",
    "load_data(golf_data_file)\n",
    "\n",
    "# Load new teams using current players\n",
    "new_teams = load_teams_from_excel(mm_team_file, calcutta_data[\"players\"])\n",
    "\n",
    "# Update calcutta_data directly\n",
    "calcutta_data[\"teams\"] = new_teams\n",
    "\n",
    "# Save everything (players, tournaments, teams)\n",
    "save_data(golf_data_file)\n",
    "\n",
    "print(f\"✅ Loaded {len(new_teams)} teams and updated player dictionary.\")"
   ]
  },
  {
   "cell_type": "code",
   "execution_count": null,
   "id": "21",
   "metadata": {},
   "outputs": [],
   "source": [
    "# Save everything (players, tournaments, teams)\n",
    "save_data(golf_data_file)\n"
   ]
  },
  {
   "cell_type": "code",
   "execution_count": null,
   "id": "22",
   "metadata": {},
   "outputs": [],
   "source": [
    "# --- Helper to find corrupted rounds ---\n",
    "\n",
    "def find_corrupt_rounds():\n",
    "    bad_rounds = []\n",
    "    player_list = players.values() if isinstance(players, dict) else players\n",
    "\n",
    "    for player in player_list:\n",
    "        for rnd in player.rounds:\n",
    "            for score in rnd.hole_scores:\n",
    "                if not isinstance(score, (int, float)):\n",
    "                    try:\n",
    "                        float(score)\n",
    "                    except (ValueError, TypeError):\n",
    "                        bad_rounds.append((player.name, score))\n",
    "    return bad_rounds\n",
    "\n",
    "# Example usage\n",
    "corrupt = find_corrupt_rounds()\n",
    "for player_name, bad_score in corrupt:\n",
    "    print(f\"Corrupt score '{bad_score}' found for player {player_name}\")"
   ]
  },
  {
   "cell_type": "code",
   "execution_count": null,
   "id": "23",
   "metadata": {},
   "outputs": [],
   "source": [
    "\n",
    "\n",
    "# --- Helper to Print Sections of Player Data ---\n",
    "\n",
    "def inspect_player_rounds(start_idx=0, num_players=5):\n",
    "    \"\"\"\n",
    "    Print sections of player data to manually inspect hole_scores.\n",
    "    Args:\n",
    "        players: dict or list of Player objects\n",
    "        start_idx: starting index in the player list\n",
    "        num_players: how many players to show\n",
    "    \"\"\"\n",
    "    player_list = list(players.values()) if isinstance(players, dict) else list(players)\n",
    "    \n",
    "    for i, player in enumerate(player_list[start_idx:start_idx+num_players], start=start_idx):\n",
    "        print(f\"\\n=== Player {i}: {player.name} ===\")\n",
    "        for j, round_info in enumerate(player.rounds):\n",
    "            print(f\"  Round {j}: Tournament={round_info.tournament_name}, RoundNum={round_info.round_number}, Handicap={round_info.handicap}\")\n",
    "            print(f\"    Hole Scores: {round_info.hole_scores}\")\n",
    "            \n",
    "            # Check if any gross score is suspicious\n",
    "            for k, score in enumerate(round_info.hole_scores):\n",
    "                try:\n",
    "                    _ = float(score)\n",
    "                except (ValueError, TypeError):\n",
    "                    print(f\"    ⚠️ Suspicious score at hole {k+1}: '{score}'\")\n",
    "\n"
   ]
  },
  {
   "cell_type": "code",
   "execution_count": null,
   "id": "24",
   "metadata": {},
   "outputs": [],
   "source": [
    "def inspect_player_by_name(search_name):\n",
    "    \"\"\"\n",
    "    Print round details for a specific player by name.\n",
    "    Args:\n",
    "        players: dict of Player objects\n",
    "        search_name: name or partial name of the player (case insensitive)\n",
    "    \"\"\"\n",
    "    matches = []\n",
    "    for key, value in players.items():\n",
    "        try:\n",
    "            if isinstance(value, Player) and search_name.lower() in value.name.lower():\n",
    "                matches.append(value)\n",
    "        except Exception as e:\n",
    "            print(f\"⚠️ Skipping corrupted entry in players: {key} ({type(value)}): {e}\")\n",
    "\n",
    "    if not matches:\n",
    "        print(f\"❌ No players found matching '{search_name}'.\")\n",
    "        return\n",
    "\n",
    "    for player in matches:\n",
    "        print(f\"\\n=== Player: {player.name} ===\")\n",
    "        for j, round_info in enumerate(player.rounds):\n",
    "            print(f\"  Round {j}: Tournament={round_info.tournament_name}, RoundNum={round_info.round_number}, Handicap={round_info.handicap}, Date={round_info.date}, Duplicate={round_info.duplicate}\")\n",
    "            print(f\"    Tee: {round_info.tee}\")\n",
    "            print(f\"    Hole Scores: {round_info.hole_scores}\")\n",
    "            print(f\"    Gross: {round_info.total}, Net: {round_info.net}\")"
   ]
  },
  {
   "cell_type": "code",
   "execution_count": null,
   "id": "25",
   "metadata": {},
   "outputs": [],
   "source": [
    "inspect_player_by_name(\"Chris Taylor\")"
   ]
  },
  {
   "cell_type": "code",
   "execution_count": null,
   "id": "26",
   "metadata": {},
   "outputs": [],
   "source": [
    "def check_for_invalid_players():\n",
    "    print(\"\\n🔍 Scanning for invalid player entries...\")\n",
    "    for key, value in players.items():\n",
    "        if not isinstance(value, Player):\n",
    "            print(f\"⚠️ Invalid entry: key={key} | type={type(value)} | value={value}\")"
   ]
  },
  {
   "cell_type": "code",
   "execution_count": null,
   "id": "27",
   "metadata": {},
   "outputs": [],
   "source": [
    "check_for_invalid_players()"
   ]
  },
  {
   "cell_type": "code",
   "execution_count": null,
   "id": "28",
   "metadata": {},
   "outputs": [],
   "source": [
    "# See first 5 players\n",
    "inspect_player_rounds(start_idx=0, num_players=5)\n",
    "\n",
    "# See players 10–15\n",
    "#inspect_player_rounds(players, start_idx=10, num_players=5)\n",
    "\n",
    "# See players 50–60\n",
    "#inspect_player_rounds(players, start_idx=50, num_players=10)"
   ]
  },
  {
   "cell_type": "code",
   "execution_count": null,
   "id": "29",
   "metadata": {},
   "outputs": [],
   "source": [
    "def mark_duplicate_individual_rounds():\n",
    "    print(\"🔍 Scanning for duplicate 'Individual' rounds...\")\n",
    "    for player in players.values():\n",
    "        seen_scores = {}\n",
    "        for round_info in player.rounds:\n",
    "            key = tuple(round_info.hole_scores)\n",
    "            if key in seen_scores:\n",
    "                # If one is 'Individual' and the other is not, mark the 'Individual' one as duplicate\n",
    "                existing_round = seen_scores[key]\n",
    "                if round_info.tournament_name.lower() == \"individual\" and existing_round.tournament_name.lower() != \"individual\":\n",
    "                    round_info.duplicate = True\n",
    "                elif existing_round.tournament_name.lower() == \"individual\" and round_info.tournament_name.lower() != \"individual\":\n",
    "                    existing_round.duplicate = True\n",
    "            else:\n",
    "                seen_scores[key] = round_info\n",
    "\n",
    "    print(\"✅ Duplicate marking complete.\")\n"
   ]
  },
  {
   "cell_type": "code",
   "execution_count": null,
   "id": "30",
   "metadata": {},
   "outputs": [],
   "source": [
    "mark_duplicate_individual_rounds()"
   ]
  },
  {
   "cell_type": "code",
   "execution_count": null,
   "id": "31",
   "metadata": {},
   "outputs": [],
   "source": [
    "# --- Find and Print Hole-by-Hole Gross Score Outliers ---\n",
    "\n",
    "def find_hole_score_outliers(max_hole_score=12):\n",
    "    \"\"\"\n",
    "    Scan all players and print any hole scores that exceed max_hole_score.\n",
    "\n",
    "    Args:\n",
    "        players: dict or list of Player objects\n",
    "        max_hole_score: maximum reasonable gross score allowed for a single hole\n",
    "    \"\"\"\n",
    "    player_list = players.values() if isinstance(players, dict) else players\n",
    "    outliers = []\n",
    "\n",
    "    for player in player_list:\n",
    "        for rnd in player.rounds:\n",
    "            for hole_idx, score in enumerate(rnd.hole_scores):\n",
    "                try:\n",
    "                    gross = float(score)\n",
    "                except (ValueError, TypeError):\n",
    "                    gross = None\n",
    "\n",
    "                if gross is not None and gross > max_hole_score:\n",
    "                    outliers.append((\n",
    "                        player.name, \n",
    "                        rnd.tournament_name, \n",
    "                        rnd.round_number, \n",
    "                        hole_idx + 1,  # 1-indexed hole number\n",
    "                        gross\n",
    "                    ))\n",
    "\n",
    "    if not outliers:\n",
    "        print(f\"✅ No hole scores exceeded {max_hole_score} strokes.\")\n",
    "        return\n",
    "\n",
    "    print(f\"\\n🚨 Found {len(outliers)} outlier hole scores exceeding {max_hole_score} strokes:\\n\")\n",
    "    print(f\"{'Player Name':<25} {'Tournament':<30} {'Round':<6} {'Hole':<5} {'Gross Score':>8}\")\n",
    "    print(\"-\" * 80)\n",
    "\n",
    "    for name, tournament, round_num, hole_num, gross_score in outliers:\n",
    "        print(f\"{name:<25} {tournament:<30} {round_num:<6} {hole_num:<5} {gross_score:>8.1f}\")\n",
    "\n",
    "# --- Example Usage ---\n",
    "\n",
    "find_hole_score_outliers(max_hole_score=12)"
   ]
  },
  {
   "cell_type": "code",
   "execution_count": null,
   "id": "32",
   "metadata": {},
   "outputs": [],
   "source": [
    "def load_teams_from_excel(xlsx_path):\n",
    "    import pandas as pd\n",
    "    df = pd.read_excel(xlsx_path, usecols=[1], header=None)  # Column 1 (second column)\n",
    "    df.dropna(inplace=True)\n",
    "\n",
    "    teams.clear()  # Clear any existing teams first\n",
    "    for i in range(0, len(df), 2):\n",
    "        try:\n",
    "            name1 = str(df.iloc[i, 0]).strip()\n",
    "            name2 = str(df.iloc[i + 1, 0]).strip()\n",
    "\n",
    "            player1 = players.get(name1, Player(name1))\n",
    "            player2 = players.get(name2, Player(name2))\n",
    "\n",
    "            players.setdefault(name1, player1)\n",
    "            players.setdefault(name2, player2)\n",
    "\n",
    "            team_name = f\"{name1} / {name2}\"\n",
    "            team = Team(team_name, [player1, player2])\n",
    "            teams.append(team)\n",
    "\n",
    "        except Exception as e:\n",
    "            print(f\"⚠️ Error loading team at rows {i + 2}–{i + 3}: {e}\")"
   ]
  },
  {
   "cell_type": "code",
   "execution_count": null,
   "id": "33",
   "metadata": {},
   "outputs": [],
   "source": [
    "load_teams_from_excel(mm_team_file)\n",
    "print(f'teams: {len(teams)}')"
   ]
  },
  {
   "cell_type": "code",
   "execution_count": null,
   "id": "34",
   "metadata": {},
   "outputs": [],
   "source": [
    "valid_combos = {\n",
    "    ('I', 72.8, 133),\n",
    "    ('I/II', 71.7, 131),\n",
    "    ('II', 70.5, 127),\n",
    "    ('II', 70.5, 128),   # 👈 NEWLY ADDED\n",
    "    ('II/III', 68.1, 126),\n",
    "    ('III', 66.9, 119),\n",
    "}\n"
   ]
  }
 ],
 "metadata": {
  "kernelspec": {
   "display_name": "Python (hf-pt)",
   "language": "python",
   "name": "hf-pt"
  },
  "language_info": {
   "codemirror_mode": {
    "name": "ipython",
    "version": 3
   },
   "file_extension": ".py",
   "mimetype": "text/x-python",
   "name": "python",
   "nbconvert_exporter": "python",
   "pygments_lexer": "ipython3",
   "version": "3.10.16"
  }
 },
 "nbformat": 4,
 "nbformat_minor": 5
}
