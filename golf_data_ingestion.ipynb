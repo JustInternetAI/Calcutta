{
 "cells": [
  {
   "cell_type": "markdown",
   "id": "0",
   "metadata": {},
   "source": [
    "# 1. Install Required Libraries\n",
    "(Skip if already installed)"
   ]
  },
  {
   "cell_type": "code",
   "execution_count": null,
   "id": "1",
   "metadata": {},
   "outputs": [],
   "source": [
    "# Uncomment below if needed:\n",
    "# !pip install pandas openpyxl"
   ]
  },
  {
   "cell_type": "markdown",
   "id": "2",
   "metadata": {},
   "source": [
    "# 2. Define Data Classes"
   ]
  },
  {
   "cell_type": "code",
   "execution_count": null,
   "id": "3",
   "metadata": {},
   "outputs": [],
   "source": [
    "from golf_classes import Player, PlayerRoundInfo, Tournament, Round, Team\n"
   ]
  },
  {
   "cell_type": "markdown",
   "id": "4",
   "metadata": {},
   "source": [
    "# 3. Load Cleaned Excel Files"
   ]
  },
  {
   "cell_type": "code",
   "execution_count": null,
   "id": "5",
   "metadata": {},
   "outputs": [],
   "source": [
    "\n",
    "import pandas as pd\n",
    "\n",
    "# Update paths to where you saved your cleaned files\n",
    "path_2023 = '/home/justin/JustInternetAI/Calcutta/Data/2023_cleaned_events_fixed_V2.xlsx'\n",
    "path_2024 = '/home/justin/JustInternetAI/Calcutta/Data/2024_cleaned_events_V2.xlsx'\n",
    "\n",
    "sheets_2023 = pd.ExcelFile(path_2023).sheet_names\n",
    "sheets_2024 = pd.ExcelFile(path_2024).sheet_names\n"
   ]
  },
  {
   "cell_type": "markdown",
   "id": "6",
   "metadata": {},
   "source": [
    "# 4. Build Player and Tournament Structures"
   ]
  },
  {
   "cell_type": "code",
   "execution_count": null,
   "id": "7",
   "metadata": {},
   "outputs": [],
   "source": [
    "\n",
    "players = {}\n",
    "tournaments = {}\n",
    "\n",
    "def get_or_create_player(player_name):\n",
    "    if player_name not in players:\n",
    "        players[player_name] = Player(player_name)\n",
    "    return players[player_name]\n",
    "\n",
    "def load_event(file_path, sheet_name, year):\n",
    "    df = pd.read_excel(file_path, sheet_name=sheet_name)\n",
    "\n",
    "    tournament_name = f\"{year} {sheet_name}\"  # Full name including year\n",
    "    tournament = Tournament(tournament_name)\n",
    "    round_obj = Round(tournament_name, round_number=1)\n",
    "\n",
    "    for _, row in df.iterrows():\n",
    "        player = get_or_create_player(row['Player'])\n",
    "        hole_scores = [row[i] for i in range(4, 22)]\n",
    "\n",
    "        player_round = PlayerRoundInfo(\n",
    "            player=player,\n",
    "            tournament_name=tournament_name,\n",
    "            round_number=1,\n",
    "            handicap=row.get('Handicap'),\n",
    "            tee=row['Tee'],\n",
    "            hole_scores=hole_scores,\n",
    "            total=row['Total'],\n",
    "            net=row['Net']\n",
    "        )\n",
    "\n",
    "        player.rounds.append(player_round)\n",
    "        round_obj.player_rounds.append(player_round)\n",
    "\n",
    "    tournament.rounds.append(round_obj)\n",
    "    tournaments[tournament_name] = tournament\n"
   ]
  },
  {
   "cell_type": "markdown",
   "id": "8",
   "metadata": {},
   "source": [
    "# 5. Load All Events"
   ]
  },
  {
   "cell_type": "code",
   "execution_count": null,
   "id": "9",
   "metadata": {},
   "outputs": [],
   "source": [
    "\n",
    "# Load all 2023 events\n",
    "for sheet in sheets_2023:\n",
    "    load_event(path_2023, sheet, year=2023)\n",
    "\n",
    "# Load all 2024 events\n",
    "for sheet in sheets_2024:\n",
    "    load_event(path_2024, sheet, year=2024)\n"
   ]
  },
  {
   "cell_type": "code",
   "execution_count": null,
   "id": "10",
   "metadata": {},
   "outputs": [],
   "source": [
    "\n",
    "# List all players\n",
    "print(f\"Loaded {len(players)} players.\")\n",
    "print(list(players.keys())[:10])  # Show first 10 players\n",
    "\n",
    "# List all tournaments\n",
    "print(f\"Loaded {len(tournaments)} tournaments.\")\n",
    "print(list(tournaments.keys())[:5])\n",
    "\n",
    "# Loop through all players and print their name and all rounds they played\n",
    "for player_name, player_obj in players.items():\n",
    "    print(f\"\\n{player_name} played {len(player_obj.rounds)} rounds:\")\n",
    "    for round_info in player_obj.rounds:\n",
    "        print(f\"- {round_info.tournament_name} (Net {round_info.net})\")"
   ]
  },
  {
   "cell_type": "markdown",
   "id": "11",
   "metadata": {},
   "source": [
    "# 6. Save Player and Tournaments to a file"
   ]
  },
  {
   "cell_type": "code",
   "execution_count": null,
   "id": "12",
   "metadata": {},
   "outputs": [],
   "source": [
    "\n",
    "\n",
    "import pickle\n",
    "\n",
    "# Save players and tournaments to a file\n",
    "def save_data(players, tournaments, filename='golf_data.pkl'):\n",
    "    with open(filename, 'wb') as f:\n",
    "        pickle.dump({'players': players, 'tournaments': tournaments}, f)\n",
    "\n",
    "# Load players and tournaments from a file\n",
    "def load_data(filename='golf_data.pkl'):\n",
    "    with open(filename, 'rb') as f:\n",
    "        data = pickle.load(f)\n",
    "    return data['players'], data['tournaments']"
   ]
  },
  {
   "cell_type": "code",
   "execution_count": null,
   "id": "13",
   "metadata": {},
   "outputs": [],
   "source": [
    "save_data(players, tournaments)\n",
    "loaded_players, loaded_tournaments = load_data()\n",
    "print(f\"Loaded {len(loaded_players)} players from file.\")"
   ]
  },
  {
   "cell_type": "code",
   "execution_count": null,
   "id": "14",
   "metadata": {},
   "outputs": [],
   "source": [
    "# --- Helper to find corrupted rounds ---\n",
    "\n",
    "def find_corrupt_rounds(players):\n",
    "    bad_rounds = []\n",
    "    player_list = players.values() if isinstance(players, dict) else players\n",
    "\n",
    "    for player in player_list:\n",
    "        for rnd in player.rounds:\n",
    "            for score in rnd.hole_scores:\n",
    "                if not isinstance(score, (int, float)):\n",
    "                    try:\n",
    "                        float(score)\n",
    "                    except (ValueError, TypeError):\n",
    "                        bad_rounds.append((player.name, score))\n",
    "    return bad_rounds\n",
    "\n",
    "# Example usage\n",
    "corrupt = find_corrupt_rounds(players)\n",
    "for player_name, bad_score in corrupt:\n",
    "    print(f\"Corrupt score '{bad_score}' found for player {player_name}\")"
   ]
  },
  {
   "cell_type": "code",
   "execution_count": null,
   "id": "15",
   "metadata": {},
   "outputs": [],
   "source": [
    "\n",
    "\n",
    "# --- Helper to Print Sections of Player Data ---\n",
    "\n",
    "def inspect_player_rounds(players, start_idx=0, num_players=5):\n",
    "    \"\"\"\n",
    "    Print sections of player data to manually inspect hole_scores.\n",
    "    Args:\n",
    "        players: dict or list of Player objects\n",
    "        start_idx: starting index in the player list\n",
    "        num_players: how many players to show\n",
    "    \"\"\"\n",
    "    player_list = list(players.values()) if isinstance(players, dict) else list(players)\n",
    "    \n",
    "    for i, player in enumerate(player_list[start_idx:start_idx+num_players], start=start_idx):\n",
    "        print(f\"\\n=== Player {i}: {player.name} ===\")\n",
    "        for j, round_info in enumerate(player.rounds):\n",
    "            print(f\"  Round {j}: Tournament={round_info.tournament_name}, RoundNum={round_info.round_number}, Handicap={round_info.handicap}\")\n",
    "            print(f\"    Hole Scores: {round_info.hole_scores}\")\n",
    "            \n",
    "            # Check if any gross score is suspicious\n",
    "            for k, score in enumerate(round_info.hole_scores):\n",
    "                try:\n",
    "                    _ = float(score)\n",
    "                except (ValueError, TypeError):\n",
    "                    print(f\"    ⚠️ Suspicious score at hole {k+1}: '{score}'\")\n",
    "\n"
   ]
  },
  {
   "cell_type": "code",
   "execution_count": null,
   "id": "16",
   "metadata": {},
   "outputs": [],
   "source": [
    "# See first 5 players\n",
    "inspect_player_rounds(players, start_idx=0, num_players=5)\n",
    "\n",
    "# See players 10–15\n",
    "#inspect_player_rounds(players, start_idx=10, num_players=5)\n",
    "\n",
    "# See players 50–60\n",
    "#inspect_player_rounds(players, start_idx=50, num_players=10)"
   ]
  },
  {
   "cell_type": "code",
   "execution_count": null,
   "id": "17",
   "metadata": {},
   "outputs": [],
   "source": [
    "# --- Inspect a Player's Rounds in Full Detail ---\n",
    "\n",
    "def inspect_player_stableford_rounds(players, player_name):\n",
    "    \"\"\"\n",
    "    Print out detailed hole-by-hole gross, net, and Stableford points for each round of a player.\n",
    "    \"\"\"\n",
    "    player = players.get(player_name) if isinstance(players, dict) else None\n",
    "    if not player:\n",
    "        print(f\"Player '{player_name}' not found.\")\n",
    "        return\n",
    "    \n",
    "    print(f\"\\n=== Rounds for {player.name} ===\\n\")\n",
    "    \n",
    "    for rnd_idx, rnd in enumerate(player.rounds):\n",
    "        print(f\"--- Round {rnd_idx + 1}: Tournament={rnd.tournament_name}, Round={rnd.round_number}, Handicap={rnd.handicap} ---\")\n",
    "        \n",
    "        strokes = strokes_received_per_hole(rnd.handicap)\n",
    "        gross_scores = rnd.hole_scores\n",
    "        \n",
    "        net_scores = []\n",
    "        stableford_scores = []\n",
    "        \n",
    "        gross_total = 0\n",
    "        net_total = 0\n",
    "        stableford_total = 0\n",
    "\n",
    "        print(f\"{'Hole':<5} {'Gross':>8} {'Net':>8} {'Stableford':>12}\")\n",
    "        print(\"-\" * 35)\n",
    "        \n",
    "        for i in range(18):\n",
    "            try:\n",
    "                gross = float(gross_scores[i])\n",
    "            except (ValueError, TypeError, IndexError):\n",
    "                gross = None\n",
    "            \n",
    "            if gross is None:\n",
    "                net = None\n",
    "                stableford = None\n",
    "            else:\n",
    "                net = gross - strokes[i]\n",
    "                net_relative_to_par = round(net - hole_pars[i])  \n",
    "                stableford = stableford_points(net_relative_to_par)\n",
    "            \n",
    "            gross_str = f\"{gross:.0f}\" if gross is not None else \"X\"\n",
    "            net_str = f\"{net:.0f}\" if net is not None else \"X\"\n",
    "            stableford_str = f\"{stableford:+d}\" if stableford is not None else \"X\"\n",
    "\n",
    "            print(f\"{i+1:<5} {gross_str:>8} {net_str:>8} {stableford_str:>12}\")\n",
    "\n",
    "            if gross is not None:\n",
    "                gross_total += gross\n",
    "            if net is not None:\n",
    "                net_total += net\n",
    "            if stableford is not None:\n",
    "                stableford_total += stableford\n",
    "        \n",
    "        print(\"-\" * 35)\n",
    "        print(f\"{'Total':<5} {gross_total:>8.0f} {net_total:>8.0f} {stableford_total:>12.0f}\\n\")"
   ]
  }
 ],
 "metadata": {
  "kernelspec": {
   "display_name": "Python (hf-pt)",
   "language": "python",
   "name": "hf-pt"
  },
  "language_info": {
   "codemirror_mode": {
    "name": "ipython",
    "version": 3
   },
   "file_extension": ".py",
   "mimetype": "text/x-python",
   "name": "python",
   "nbconvert_exporter": "python",
   "pygments_lexer": "ipython3",
   "version": "3.10.16"
  }
 },
 "nbformat": 4,
 "nbformat_minor": 5
}
