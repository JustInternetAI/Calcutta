{
 "cells": [
  {
   "cell_type": "markdown",
   "id": "0",
   "metadata": {},
   "source": [
    "# 1. Install Required Libraries\n",
    "(Skip if already installed)"
   ]
  },
  {
   "cell_type": "code",
   "execution_count": null,
   "id": "1",
   "metadata": {},
   "outputs": [],
   "source": [
    "# Uncomment below if needed:\n",
    "# !pip install pandas openpyxl"
   ]
  },
  {
   "cell_type": "markdown",
   "id": "2",
   "metadata": {},
   "source": [
    "# 2. Define Data Classes"
   ]
  },
  {
   "cell_type": "code",
   "execution_count": null,
   "id": "3",
   "metadata": {},
   "outputs": [],
   "source": [
    "\n",
    "class Player:\n",
    "    def __init__(self, name):\n",
    "        self.name = name\n",
    "        self.rounds = []  # List of PlayerRoundInfo\n",
    "\n",
    "class PlayerRoundInfo:\n",
    "    def __init__(self, player, tournament_name, round_number, handicap, tee, hole_scores, total, net):\n",
    "        self.player = player\n",
    "        self.tournament_name = tournament_name\n",
    "        self.round_number = round_number\n",
    "        self.handicap = handicap\n",
    "        self.tee = tee\n",
    "        self.hole_scores = hole_scores  # List of 18 scores\n",
    "        self.total = total\n",
    "        self.net = net\n",
    "\n",
    "class Tournament:\n",
    "    def __init__(self, name):\n",
    "        self.name = name\n",
    "        self.rounds = []  # List of Round\n",
    "\n",
    "class Round:\n",
    "    def __init__(self, tournament_name, round_number):\n",
    "        self.tournament_name = tournament_name\n",
    "        self.round_number = round_number\n",
    "        self.player_rounds = []  # List of PlayerRoundInfo\n",
    "\n",
    "class Team:\n",
    "    def __init__(self, name, members):\n",
    "        self.name = name\n",
    "        self.members = members  # List of Players\n",
    "        self.aggregate_score = None\n"
   ]
  },
  {
   "cell_type": "markdown",
   "id": "4",
   "metadata": {},
   "source": [
    "# 3. Load Cleaned Excel Files"
   ]
  },
  {
   "cell_type": "code",
   "execution_count": null,
   "id": "5",
   "metadata": {},
   "outputs": [],
   "source": [
    "\n",
    "import pandas as pd\n",
    "\n",
    "# Update paths to where you saved your cleaned files\n",
    "path_2023 = '/home/justin/JustInternetAI/Calcutta/Data/2023_cleaned_events_fixed_V2.xlsx'\n",
    "path_2024 = '/home/justin/JustInternetAI/Calcutta/Data/2024_cleaned_events_V2.xlsx'\n",
    "\n",
    "sheets_2023 = pd.ExcelFile(path_2023).sheet_names\n",
    "sheets_2024 = pd.ExcelFile(path_2024).sheet_names\n"
   ]
  },
  {
   "cell_type": "markdown",
   "id": "6",
   "metadata": {},
   "source": [
    "# 4. Build Player and Tournament Structures"
   ]
  },
  {
   "cell_type": "code",
   "execution_count": null,
   "id": "7",
   "metadata": {},
   "outputs": [],
   "source": [
    "\n",
    "players = {}\n",
    "tournaments = {}\n",
    "\n",
    "def get_or_create_player(player_name):\n",
    "    if player_name not in players:\n",
    "        players[player_name] = Player(player_name)\n",
    "    return players[player_name]\n",
    "\n",
    "def load_event(file_path, sheet_name, year):\n",
    "    df = pd.read_excel(file_path, sheet_name=sheet_name)\n",
    "\n",
    "    tournament_name = f\"{year} {sheet_name}\"  # Full name including year\n",
    "    tournament = Tournament(tournament_name)\n",
    "    round_obj = Round(tournament_name, round_number=1)\n",
    "\n",
    "    for _, row in df.iterrows():\n",
    "        player = get_or_create_player(row['Player'])\n",
    "        hole_scores = [row[i] for i in range(1, 19)]\n",
    "\n",
    "        player_round = PlayerRoundInfo(\n",
    "            player=player,\n",
    "            tournament_name=tournament_name,\n",
    "            round_number=1,\n",
    "            handicap=row.get('Handicap'),\n",
    "            tee=row['Tee'],\n",
    "            hole_scores=hole_scores,\n",
    "            total=row['Total'],\n",
    "            net=row['Net']\n",
    "        )\n",
    "\n",
    "        player.rounds.append(player_round)\n",
    "        round_obj.player_rounds.append(player_round)\n",
    "\n",
    "    tournament.rounds.append(round_obj)\n",
    "    tournaments[tournament_name] = tournament\n"
   ]
  },
  {
   "cell_type": "markdown",
   "id": "8",
   "metadata": {},
   "source": [
    "# 5. Load All Events"
   ]
  },
  {
   "cell_type": "code",
   "execution_count": null,
   "id": "9",
   "metadata": {},
   "outputs": [],
   "source": [
    "\n",
    "# Load all 2023 events\n",
    "for sheet in sheets_2023:\n",
    "    load_event(path_2023, sheet, year=2023)\n",
    "\n",
    "# Load all 2024 events\n",
    "for sheet in sheets_2024:\n",
    "    load_event(path_2024, sheet, year=2024)\n"
   ]
  },
  {
   "cell_type": "code",
   "execution_count": null,
   "id": "10",
   "metadata": {},
   "outputs": [],
   "source": [
    "\n",
    "# List all players\n",
    "print(f\"Loaded {len(players)} players.\")\n",
    "print(list(players.keys())[:10])  # Show first 10 players\n",
    "\n",
    "# List all tournaments\n",
    "print(f\"Loaded {len(tournaments)} tournaments.\")\n",
    "print(list(tournaments.keys())[:5])\n",
    "\n",
    "# Loop through all players and print their name and all rounds they played\n",
    "for player_name, player_obj in players.items():\n",
    "    print(f\"\\n{player_name} played {len(player_obj.rounds)} rounds:\")\n",
    "    for round_info in player_obj.rounds:\n",
    "        print(f\"- {round_info.tournament_name} (Net {round_info.net})\")"
   ]
  },
  {
   "cell_type": "markdown",
   "id": "11",
   "metadata": {},
   "source": [
    "# 6. Save Player and Tournaments to a file"
   ]
  },
  {
   "cell_type": "code",
   "execution_count": null,
   "id": "12",
   "metadata": {},
   "outputs": [],
   "source": [
    "\n",
    "\n",
    "import pickle\n",
    "\n",
    "# Save players and tournaments to a file\n",
    "def save_data(players, tournaments, filename='golf_data.pkl'):\n",
    "    with open(filename, 'wb') as f:\n",
    "        pickle.dump({'players': players, 'tournaments': tournaments}, f)\n",
    "\n",
    "# Load players and tournaments from a file\n",
    "def load_data(filename='golf_data.pkl'):\n",
    "    with open(filename, 'rb') as f:\n",
    "        data = pickle.load(f)\n",
    "    return data['players'], data['tournaments']"
   ]
  },
  {
   "cell_type": "code",
   "execution_count": null,
   "id": "13",
   "metadata": {},
   "outputs": [],
   "source": [
    "save_data(players, tournaments)\n",
    "loaded_players, loaded_tournaments = load_data()\n",
    "print(f\"Loaded {len(loaded_players)} players from file.\")"
   ]
  }
 ],
 "metadata": {
  "kernelspec": {
   "display_name": "Python (hf-pt)",
   "language": "python",
   "name": "hf-pt"
  },
  "language_info": {
   "codemirror_mode": {
    "name": "ipython",
    "version": 3
   },
   "file_extension": ".py",
   "mimetype": "text/x-python",
   "name": "python",
   "nbconvert_exporter": "python",
   "pygments_lexer": "ipython3",
   "version": "3.10.16"
  }
 },
 "nbformat": 4,
 "nbformat_minor": 5
}
