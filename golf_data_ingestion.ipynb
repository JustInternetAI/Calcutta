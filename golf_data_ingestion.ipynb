{
 "cells": [
  {
   "cell_type": "markdown",
   "id": "0",
   "metadata": {},
   "source": [
    "# 1. Install Required Libraries\n",
    "(Skip if already installed)"
   ]
  },
  {
   "cell_type": "code",
   "execution_count": null,
   "id": "1",
   "metadata": {},
   "outputs": [],
   "source": [
    "# Uncomment below if needed:\n",
    "# !pip install pandas openpyxl"
   ]
  },
  {
   "cell_type": "markdown",
   "id": "2",
   "metadata": {},
   "source": [
    "# 2. Define Data Classes"
   ]
  },
  {
   "cell_type": "code",
   "execution_count": null,
   "id": "3",
   "metadata": {},
   "outputs": [],
   "source": [
    "from golf_classes import Player, PlayerRoundInfo, Tournament, Round, Team\n"
   ]
  },
  {
   "cell_type": "markdown",
   "id": "4",
   "metadata": {},
   "source": [
    "# 3. Load Cleaned Excel Files"
   ]
  },
  {
   "cell_type": "code",
   "execution_count": null,
   "id": "5",
   "metadata": {},
   "outputs": [],
   "source": [
    "\n",
    "import pandas as pd\n",
    "\n",
    "# Update paths to where you saved your cleaned files\n",
    "path_2023 = '/home/justin/JustInternetAI/Calcutta/Data/2023_cleaned_events_fixed_V2.xlsx'\n",
    "path_2024 = '/home/justin/JustInternetAI/Calcutta/Data/2024_cleaned_events_V2.xlsx'\n",
    "\n",
    "sheets_2023 = pd.ExcelFile(path_2023).sheet_names\n",
    "sheets_2024 = pd.ExcelFile(path_2024).sheet_names\n"
   ]
  },
  {
   "cell_type": "code",
   "execution_count": null,
   "id": "6",
   "metadata": {},
   "outputs": [],
   "source": [
    "\n",
    "# --- Course Setup ---\n",
    "hole_handicap_ratings = [5, 13, 17, 3, 11, 9, 1, 15, 7, 10, 6, 18, 14, 2, 16, 4, 12, 8]\n",
    "hole_pars = [4, 4, 3, 4, 3, 4, 4, 5, 4, 4, 4, 3, 5, 4, 3, 4, 5, 4]\n",
    "\n",
    "\n",
    "\n",
    "# --- Compute strokes received per hole ---\n",
    "def strokes_received_per_hole(player_handicap):\n",
    "    strokes = [0] * 18\n",
    "    for i in range(18):\n",
    "        hcap = hole_handicap_ratings[i]\n",
    "        if player_handicap >= hcap:\n",
    "            strokes[i] += 1\n",
    "        if player_handicap > 18 and player_handicap >= hcap + 18:\n",
    "            strokes[i] += 1\n",
    "    return strokes"
   ]
  },
  {
   "cell_type": "markdown",
   "id": "7",
   "metadata": {},
   "source": [
    "# 4. Build Player and Tournament Structures"
   ]
  },
  {
   "cell_type": "code",
   "execution_count": null,
   "id": "8",
   "metadata": {},
   "outputs": [],
   "source": [
    "players = {}\n",
    "tournaments = {}\n",
    "\n",
    "def get_or_create_player(player_name):\n",
    "    if player_name not in players:\n",
    "        players[player_name] = Player(player_name)\n",
    "    return players[player_name]\n",
    "\n",
    "def load_event(file_path, sheet_name, year, verbose=True):\n",
    "    import pandas as pd\n",
    "\n",
    "    df = pd.read_excel(file_path, sheet_name=sheet_name)\n",
    "\n",
    "    tournament_name = f\"{year} {sheet_name}\"\n",
    "    tournament = Tournament(tournament_name)\n",
    "    round_obj = Round(tournament_name, round_number=1)\n",
    "\n",
    "    # --- Detect gross and net column names (flexible matching) ---\n",
    "    gross_col = next((col for col in df.columns if str(col).strip().lower() in ['total', 'gross', 'gross score']), None)\n",
    "    net_col = next((col for col in df.columns if str(col).strip().lower() in ['net', 'net score']), None)\n",
    "\n",
    "    if gross_col is None:\n",
    "        raise ValueError(f\"❌ Could not find a 'Total' or 'Gross' column in sheet: {sheet_name}\")\n",
    "\n",
    "    # --- Determine if scores are gross or net by checking one row ---\n",
    "    first_row = df.iloc[0]\n",
    "    first_handicap = first_row['Handicap']\n",
    "    hole_scores_first = [first_row[i] for i in range(4, 22)]  # Columns for holes 1–18\n",
    "    total_hole_score_first = sum(hole_scores_first)\n",
    "    reported_gross = first_row[gross_col]\n",
    "\n",
    "    if abs(total_hole_score_first - reported_gross) < 1e-3:\n",
    "        scores_are_gross = True\n",
    "    elif abs(total_hole_score_first + first_handicap - reported_gross) < 1e-3:\n",
    "        scores_are_gross = False\n",
    "    else:\n",
    "        raise ValueError(f\"Unable to determine if scores are gross or net for sheet: {sheet_name}\")\n",
    "\n",
    "    if verbose:\n",
    "        score_format = 'GROSS' if scores_are_gross else 'NET'\n",
    "        print(f\"📄 Loaded '{sheet_name}' ({year}) as {score_format} hole-by-hole scoring using column '{gross_col}'\")\n",
    "\n",
    "    # --- Process all rows ---\n",
    "    for _, row in df.iterrows():\n",
    "        player = get_or_create_player(row['Player'])\n",
    "        handicap = row['Handicap']\n",
    "        tee = row['Tee']\n",
    "        gross = row[gross_col]\n",
    "        net = row[net_col] if net_col and net_col in row else None\n",
    "        raw_hole_scores = [row[i] for i in range(4, 22)]\n",
    "\n",
    "        if scores_are_gross:\n",
    "            adjusted_hole_scores = raw_hole_scores\n",
    "        else:\n",
    "            strokes = strokes_received_per_hole(handicap)\n",
    "            adjusted_hole_scores = [raw_hole_scores[i] + strokes[i] for i in range(18)]\n",
    "\n",
    "        player_round = PlayerRoundInfo(\n",
    "            player=player,\n",
    "            tournament_name=tournament_name,\n",
    "            round_number=1,\n",
    "            handicap=handicap,\n",
    "            tee=tee,\n",
    "            hole_scores=adjusted_hole_scores,\n",
    "            total=gross,\n",
    "            net=net\n",
    "        )\n",
    "\n",
    "        player.rounds.append(player_round)\n",
    "        round_obj.player_rounds.append(player_round)\n",
    "\n",
    "    tournament.rounds.append(round_obj)\n",
    "    tournaments[tournament_name] = tournament\n"
   ]
  },
  {
   "cell_type": "markdown",
   "id": "9",
   "metadata": {},
   "source": [
    "# 5. Load All Events"
   ]
  },
  {
   "cell_type": "code",
   "execution_count": null,
   "id": "10",
   "metadata": {},
   "outputs": [],
   "source": [
    "\n",
    "# Load all 2023 events\n",
    "for sheet in sheets_2023:\n",
    "    load_event(path_2023, sheet, year=2023)\n",
    "\n",
    "# Load all 2024 events\n",
    "for sheet in sheets_2024:\n",
    "    load_event(path_2024, sheet, year=2024)\n"
   ]
  },
  {
   "cell_type": "code",
   "execution_count": null,
   "id": "11",
   "metadata": {},
   "outputs": [],
   "source": [
    "\n",
    "# List all players\n",
    "print(f\"Loaded {len(players)} players.\")\n",
    "print(list(players.keys())[:10])  # Show first 10 players\n",
    "\n",
    "# List all tournaments\n",
    "print(f\"Loaded {len(tournaments)} tournaments.\")\n",
    "print(list(tournaments.keys())[:5])\n",
    "\n",
    "# Loop through all players and print their name and all rounds they played\n",
    "for player_name, player_obj in players.items():\n",
    "    print(f\"\\n{player_name} played {len(player_obj.rounds)} rounds:\")\n",
    "    for round_info in player_obj.rounds:\n",
    "        print(f\"- {round_info.tournament_name} (Net {round_info.net})\")"
   ]
  },
  {
   "cell_type": "markdown",
   "id": "12",
   "metadata": {},
   "source": [
    "# 6. Save Player and Tournaments to a file"
   ]
  },
  {
   "cell_type": "code",
   "execution_count": null,
   "id": "13",
   "metadata": {},
   "outputs": [],
   "source": [
    "\n",
    "\n",
    "import pickle\n",
    "\n",
    "# Save players and tournaments to a file\n",
    "def save_data(players, tournaments, filename='golf_data.pkl'):\n",
    "    with open(filename, 'wb') as f:\n",
    "        pickle.dump({'players': players, 'tournaments': tournaments}, f)\n",
    "\n",
    "# Load players and tournaments from a file\n",
    "def load_data(filename='golf_data.pkl'):\n",
    "    with open(filename, 'rb') as f:\n",
    "        data = pickle.load(f)\n",
    "    return data['players'], data['tournaments']"
   ]
  },
  {
   "cell_type": "code",
   "execution_count": null,
   "id": "14",
   "metadata": {},
   "outputs": [],
   "source": [
    "save_data(players, tournaments)\n",
    "loaded_players, loaded_tournaments = load_data()\n",
    "print(f\"Loaded {len(loaded_players)} players from file.\")"
   ]
  },
  {
   "cell_type": "code",
   "execution_count": null,
   "id": "15",
   "metadata": {},
   "outputs": [],
   "source": [
    "# --- Helper to find corrupted rounds ---\n",
    "\n",
    "def find_corrupt_rounds(players):\n",
    "    bad_rounds = []\n",
    "    player_list = players.values() if isinstance(players, dict) else players\n",
    "\n",
    "    for player in player_list:\n",
    "        for rnd in player.rounds:\n",
    "            for score in rnd.hole_scores:\n",
    "                if not isinstance(score, (int, float)):\n",
    "                    try:\n",
    "                        float(score)\n",
    "                    except (ValueError, TypeError):\n",
    "                        bad_rounds.append((player.name, score))\n",
    "    return bad_rounds\n",
    "\n",
    "# Example usage\n",
    "corrupt = find_corrupt_rounds(players)\n",
    "for player_name, bad_score in corrupt:\n",
    "    print(f\"Corrupt score '{bad_score}' found for player {player_name}\")"
   ]
  },
  {
   "cell_type": "code",
   "execution_count": null,
   "id": "16",
   "metadata": {},
   "outputs": [],
   "source": [
    "\n",
    "\n",
    "# --- Helper to Print Sections of Player Data ---\n",
    "\n",
    "def inspect_player_rounds(players, start_idx=0, num_players=5):\n",
    "    \"\"\"\n",
    "    Print sections of player data to manually inspect hole_scores.\n",
    "    Args:\n",
    "        players: dict or list of Player objects\n",
    "        start_idx: starting index in the player list\n",
    "        num_players: how many players to show\n",
    "    \"\"\"\n",
    "    player_list = list(players.values()) if isinstance(players, dict) else list(players)\n",
    "    \n",
    "    for i, player in enumerate(player_list[start_idx:start_idx+num_players], start=start_idx):\n",
    "        print(f\"\\n=== Player {i}: {player.name} ===\")\n",
    "        for j, round_info in enumerate(player.rounds):\n",
    "            print(f\"  Round {j}: Tournament={round_info.tournament_name}, RoundNum={round_info.round_number}, Handicap={round_info.handicap}\")\n",
    "            print(f\"    Hole Scores: {round_info.hole_scores}\")\n",
    "            \n",
    "            # Check if any gross score is suspicious\n",
    "            for k, score in enumerate(round_info.hole_scores):\n",
    "                try:\n",
    "                    _ = float(score)\n",
    "                except (ValueError, TypeError):\n",
    "                    print(f\"    ⚠️ Suspicious score at hole {k+1}: '{score}'\")\n",
    "\n"
   ]
  },
  {
   "cell_type": "code",
   "execution_count": null,
   "id": "17",
   "metadata": {},
   "outputs": [],
   "source": [
    "# See first 5 players\n",
    "inspect_player_rounds(players, start_idx=0, num_players=5)\n",
    "\n",
    "# See players 10–15\n",
    "#inspect_player_rounds(players, start_idx=10, num_players=5)\n",
    "\n",
    "# See players 50–60\n",
    "#inspect_player_rounds(players, start_idx=50, num_players=10)"
   ]
  },
  {
   "cell_type": "code",
   "execution_count": null,
   "id": "18",
   "metadata": {},
   "outputs": [],
   "source": [
    "# --- Find and Print Hole-by-Hole Gross Score Outliers ---\n",
    "\n",
    "def find_hole_score_outliers(players, max_hole_score=12):\n",
    "    \"\"\"\n",
    "    Scan all players and print any hole scores that exceed max_hole_score.\n",
    "\n",
    "    Args:\n",
    "        players: dict or list of Player objects\n",
    "        max_hole_score: maximum reasonable gross score allowed for a single hole\n",
    "    \"\"\"\n",
    "    player_list = players.values() if isinstance(players, dict) else players\n",
    "    outliers = []\n",
    "\n",
    "    for player in player_list:\n",
    "        for rnd in player.rounds:\n",
    "            for hole_idx, score in enumerate(rnd.hole_scores):\n",
    "                try:\n",
    "                    gross = float(score)\n",
    "                except (ValueError, TypeError):\n",
    "                    gross = None\n",
    "\n",
    "                if gross is not None and gross > max_hole_score:\n",
    "                    outliers.append((\n",
    "                        player.name, \n",
    "                        rnd.tournament_name, \n",
    "                        rnd.round_number, \n",
    "                        hole_idx + 1,  # 1-indexed hole number\n",
    "                        gross\n",
    "                    ))\n",
    "\n",
    "    if not outliers:\n",
    "        print(f\"✅ No hole scores exceeded {max_hole_score} strokes.\")\n",
    "        return\n",
    "\n",
    "    print(f\"\\n🚨 Found {len(outliers)} outlier hole scores exceeding {max_hole_score} strokes:\\n\")\n",
    "    print(f\"{'Player Name':<25} {'Tournament':<30} {'Round':<6} {'Hole':<5} {'Gross Score':>8}\")\n",
    "    print(\"-\" * 80)\n",
    "\n",
    "    for name, tournament, round_num, hole_num, gross_score in outliers:\n",
    "        print(f\"{name:<25} {tournament:<30} {round_num:<6} {hole_num:<5} {gross_score:>8.1f}\")\n",
    "\n",
    "# --- Example Usage ---\n",
    "\n",
    "find_hole_score_outliers(players, max_hole_score=12)"
   ]
  }
 ],
 "metadata": {
  "kernelspec": {
   "display_name": "Python (hf-pt)",
   "language": "python",
   "name": "hf-pt"
  },
  "language_info": {
   "codemirror_mode": {
    "name": "ipython",
    "version": 3
   },
   "file_extension": ".py",
   "mimetype": "text/x-python",
   "name": "python",
   "nbconvert_exporter": "python",
   "pygments_lexer": "ipython3",
   "version": "3.10.16"
  }
 },
 "nbformat": 4,
 "nbformat_minor": 5
}
