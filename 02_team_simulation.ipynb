{
 "cells": [
  {
   "cell_type": "markdown",
   "id": "0",
   "metadata": {},
   "source": [
    "# 📓 02_team_simulation.ipynb\n",
    "**Purpose:** Simulate Day 2 team scores based on player sampling and calculate win probabilities."
   ]
  },
  {
   "cell_type": "code",
   "execution_count": null,
   "id": "1",
   "metadata": {},
   "outputs": [],
   "source": [
    "import random\n",
    "import numpy as np\n",
    "import pickle\n",
    "import matplotlib.pyplot as plt"
   ]
  },
  {
   "cell_type": "code",
   "execution_count": null,
   "id": "2",
   "metadata": {},
   "outputs": [],
   "source": [
    "# --- Load Data ---\n",
    "\n",
    "def load_data(filename='golf_data.pkl'):\n",
    "    with open(filename, 'rb') as f:\n",
    "        data = pickle.load(f)\n",
    "    return data['players'], data['tournaments']\n",
    "\n",
    "PICKLE_FILE = 'path_to_your_saved_pickle.pkl'  # TODO: Update this!\n",
    "players, tournaments = load_data(PICKLE_FILE)\n",
    "print(f\"✅ Loaded {len(players)} players and {len(tournaments)} tournaments.\")"
   ]
  },
  {
   "cell_type": "code",
   "execution_count": null,
   "id": "3",
   "metadata": {},
   "outputs": [],
   "source": [
    "# --- Sampling Functions ---\n",
    "\n",
    "def get_net_scores(player):\n",
    "    return [r.net for r in player.rounds]\n",
    "\n",
    "def sample_score_simple(player):\n",
    "    net_scores = get_net_scores(player)\n",
    "    return random.choice(net_scores) if net_scores else None\n",
    "\n",
    "def sample_score_weighted(player, decay_factor=0.9):\n",
    "    net_scores = get_net_scores(player)\n",
    "    n = len(net_scores)\n",
    "    if n == 0:\n",
    "        return None\n",
    "    weights = [decay_factor ** (n - i - 1) for i in range(n)]\n",
    "    return random.choices(net_scores, weights=weights, k=1)[0]"
   ]
  },
  {
   "cell_type": "code",
   "execution_count": null,
   "id": "4",
   "metadata": {},
   "outputs": [],
   "source": [
    "# --- Simulate Single Team Score ---\n",
    "\n",
    "def simulate_team_score(team, sampling_fn=sample_score_simple):\n",
    "    \"\"\"\n",
    "    Given a Team object, simulate one Day 2 total net score.\n",
    "    Sampling function can be simple or weighted.\n",
    "    \"\"\"\n",
    "    player_scores = []\n",
    "    for player in team.members:\n",
    "        sampled_score = sampling_fn(player)\n",
    "        if sampled_score is not None:\n",
    "            player_scores.append(sampled_score)\n",
    "\n",
    "    if len(player_scores) < 4:\n",
    "        # Not enough valid scores, team cannot score (return high number)\n",
    "        return 999\n",
    "\n",
    "    # Best 4 of 6 scores count\n",
    "    best_4_scores = sorted(player_scores)[:4]\n",
    "    return sum(best_4_scores)"
   ]
  },
  {
   "cell_type": "code",
   "execution_count": null,
   "id": "5",
   "metadata": {},
   "outputs": [],
   "source": [
    "# --- Simulate Entire Tournament ---\n",
    "\n",
    "def simulate_tournament(teams, num_simulations=10000, sampling_fn=sample_score_simple):\n",
    "    \"\"\"\n",
    "    Simulate many tournaments and estimate win probabilities for each team.\n",
    "    \"\"\"\n",
    "    team_wins = {team.name: 0 for team in teams}\n",
    "\n",
    "    for _ in range(num_simulations):\n",
    "        team_totals = {team.name: simulate_team_score(team, sampling_fn) for team in teams}\n",
    "        winning_team = min(team_totals, key=team_totals.get)\n",
    "        team_wins[winning_team] += 1\n",
    "\n",
    "    # Calculate win probabilities\n",
    "    team_win_probs = {team: wins / num_simulations for team, wins in team_wins.items()}\n",
    "    return team_win_probs"
   ]
  },
  {
   "cell_type": "code",
   "execution_count": null,
   "id": "6",
   "metadata": {},
   "outputs": [],
   "source": [
    "# --- Example Setup ---\n",
    "\n",
    "# TODO: Load your actual teams here.\n",
    "# Example dummy setup for now\n",
    "\n",
    "class Team:\n",
    "    def __init__(self, name, members):\n",
    "        self.name = name\n",
    "        self.members = members\n",
    "\n",
    "# Example usage (update this with real tournament teams):\n",
    "example_teams = [\n",
    "    Team(\"Team A\", random.sample(list(players.values()), 6)),\n",
    "    Team(\"Team B\", random.sample(list(players.values()), 6))\n",
    "]\n",
    "\n",
    "team_win_probs = simulate_tournament(example_teams, num_simulations=1000)\n",
    "print(\"\\nWin Probabilities:\")\n",
    "for team, prob in team_win_probs.items():\n",
    "    print(f\"{team}: {prob:.2%}\")"
   ]
  }
 ],
 "metadata": {},
 "nbformat": 4,
 "nbformat_minor": 5
}
