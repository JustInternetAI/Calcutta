{
 "cells": [
  {
   "cell_type": "markdown",
   "id": "0",
   "metadata": {},
   "source": [
    "# 📓 01_player_sampling_and_stats.ipynb\n",
    "**Purpose:** Load player data, inspect it, and prepare for performance modeling."
   ]
  },
  {
   "cell_type": "code",
   "execution_count": null,
   "id": "1",
   "metadata": {},
   "outputs": [],
   "source": [
    "import pickle\n",
    "import random\n",
    "import matplotlib.pyplot as plt\n",
    "import numpy as np\n",
    "from golf_classes import Player, PlayerRoundInfo, Tournament, Round, Team"
   ]
  },
  {
   "cell_type": "code",
   "execution_count": null,
   "id": "2",
   "metadata": {},
   "outputs": [],
   "source": [
    "\n",
    "calcutta_data = {\n",
    "    \"players\": {},\n",
    "    \"tournaments\": {},\n",
    "    \"teams\": []\n",
    "}\n",
    "\n",
    "players = calcutta_data[\"players\"]\n",
    "tournaments = calcutta_data[\"tournaments\"]\n",
    "teams = calcutta_data[\"teams\"]  # Optional global team structure if used"
   ]
  },
  {
   "cell_type": "code",
   "execution_count": null,
   "id": "3",
   "metadata": {},
   "outputs": [],
   "source": [
    "\n",
    "\n",
    "golf_data_file = \"golf_data.pkl\"\n",
    "\n",
    "\n",
    "def load_data(path=golf_data_file):\n",
    "    global calcutta_data, players, tournaments, teams\n",
    "    with open(path, \"rb\") as f:\n",
    "        loaded = pickle.load(f)\n",
    "\n",
    "    calcutta_data[\"players\"] = loaded.get(\"players\", {})\n",
    "    calcutta_data[\"tournaments\"] = loaded.get(\"tournaments\", {})\n",
    "    calcutta_data[\"teams\"] = loaded.get(\"teams\", [])\n",
    "\n",
    "    # Rebind the globals for convenience\n",
    "    players = calcutta_data[\"players\"]\n",
    "    tournaments = calcutta_data[\"tournaments\"]\n",
    "    teams = calcutta_data[\"teams\"]\n",
    "\n",
    "    print(\"✅ Data loaded successfully.\")\n",
    "    print(f\"players: {len(players)}, teams: {len(teams)}, tournaments: {len(tournaments)}\")"
   ]
  },
  {
   "cell_type": "code",
   "execution_count": null,
   "id": "4",
   "metadata": {},
   "outputs": [],
   "source": [
    "load_data() "
   ]
  },
  {
   "cell_type": "code",
   "execution_count": null,
   "id": "5",
   "metadata": {},
   "outputs": [],
   "source": [
    "\n",
    "\n"
   ]
  },
  {
   "cell_type": "code",
   "execution_count": null,
   "id": "6",
   "metadata": {},
   "outputs": [],
   "source": [
    "# --- Inspect Example Player ---\n",
    "example_player = next(iter(players.values() if isinstance(players, dict) else players))\n",
    "\n",
    "print(f\"Example Player: {example_player.name}\")\n",
    "print(f\"Total Rounds Recorded: {len(example_player.rounds)}\")\n",
    "\n",
    "# Print some details for the first few rounds\n",
    "for i, round_info in enumerate(example_player.rounds[:5]):  # Show up to 5 rounds\n",
    "    print(f\" Round {i+1}:\")\n",
    "    print(f\"  Tournament: {round_info.tournament_name}\")\n",
    "    print(f\"  Round Number: {round_info.round_number}\")\n",
    "    print(f\"  Handicap: {round_info.handicap}\")\n",
    "    print(f\"  Tee: {round_info.tee}\")\n",
    "    print(f\"  Net Score: {round_info.net}\")\n",
    "    print(f\"  Total Gross Score: {round_info.total}\")"
   ]
  },
  {
   "cell_type": "code",
   "execution_count": null,
   "id": "7",
   "metadata": {},
   "outputs": [],
   "source": [
    "# --- Statistics ---\n",
    "\n",
    "# Make sure players is either a list or dictionary\n",
    "player_list = players.values() if isinstance(players, dict) else players\n",
    "\n",
    "# Number of players\n",
    "num_players = len(player_list)\n",
    "\n",
    "# Number of rounds per player\n",
    "rounds_per_player = [len(player.rounds) for player in player_list]\n",
    "\n",
    "# All net scores and valid handicaps across all players and rounds\n",
    "all_net_scores = []\n",
    "all_handicaps = []\n",
    "\n",
    "for player in player_list:\n",
    "    for round_info in player.rounds:\n",
    "        all_net_scores.append(round_info.net)\n",
    "        if round_info.handicap is not None and not np.isnan(round_info.handicap):\n",
    "            all_handicaps.append(round_info.handicap)\n",
    "\n",
    "# Print statistics\n",
    "print(f\"\\nStatistics:\")\n",
    "print(f\"Total Players: {num_players}\")\n",
    "print(f\"Average Rounds per Player: {np.mean(rounds_per_player):.2f}\")\n",
    "print(f\"Min Rounds per Player: {np.min(rounds_per_player)}\")\n",
    "print(f\"Max Rounds per Player: {np.max(rounds_per_player)}\")\n",
    "\n",
    "if all_net_scores:\n",
    "    print(f\"\\nNet Score Statistics:\")\n",
    "    print(f\"  Average Net Score: {np.mean(all_net_scores):.2f}\")\n",
    "    print(f\"  Net Score Range: {np.min(all_net_scores)} to {np.max(all_net_scores)}\")\n",
    "\n",
    "if all_handicaps:\n",
    "    print(f\"\\nHandicap Statistics:\")\n",
    "    print(f\"  Average Handicap: {np.mean(all_handicaps):.2f}\")\n",
    "    print(f\"  Handicap Range: {np.min(all_handicaps)} to {np.max(all_handicaps)}\")\n",
    "else:\n",
    "    print(\"\\n⚠️ Warning: No valid handicaps found.\")\n"
   ]
  },
  {
   "cell_type": "code",
   "execution_count": null,
   "id": "8",
   "metadata": {},
   "outputs": [],
   "source": [
    "# --- Plot Net Score Distribution ---\n",
    "plt.hist(all_net_scores, bins=30, edgecolor='black')\n",
    "plt.title('Distribution of Net Scores (All Players)')\n",
    "plt.xlabel('Net Score')\n",
    "plt.ylabel('Frequency')\n",
    "plt.grid(True)\n",
    "plt.show()\n",
    "\n",
    "# --- Plot Handicap Distribution ---\n",
    "plt.hist(all_handicaps, bins=range(int(min(all_handicaps)) - 1, int(max(all_handicaps)) + 2), edgecolor='black')\n",
    "plt.title('Distribution of Handicaps (All Players)')\n",
    "plt.xlabel('Handicap')\n",
    "plt.ylabel('Frequency')\n",
    "plt.grid(True)\n",
    "plt.show()"
   ]
  },
  {
   "cell_type": "code",
   "execution_count": null,
   "id": "9",
   "metadata": {},
   "outputs": [],
   "source": [
    "# --- Optional: Plot rounds per player ---\n",
    "plt.hist(rounds_per_player, bins=range(0, max(rounds_per_player)+5, 2), edgecolor='black')\n",
    "plt.title('Distribution of Rounds per Player')\n",
    "plt.xlabel('Number of Rounds')\n",
    "plt.ylabel('Number of Players')\n",
    "plt.grid(True)\n",
    "plt.show()"
   ]
  },
  {
   "cell_type": "code",
   "execution_count": null,
   "id": "10",
   "metadata": {},
   "outputs": [],
   "source": [
    "# --- Ready for Sampling Model ---\n",
    "\n",
    "def sample_score_simple(player):\n",
    "    return random.choice(player.historical_scores)\n",
    "\n",
    "def sample_score_weighted(player, decay_factor=0.9):\n",
    "    scores = player.historical_scores\n",
    "    n = len(scores)\n",
    "    weights = [decay_factor ** (n - i - 1) for i in range(n)]\n",
    "    return random.choices(scores, weights=weights, k=1)[0]"
   ]
  },
  {
   "cell_type": "code",
   "execution_count": null,
   "id": "11",
   "metadata": {},
   "outputs": [],
   "source": [
    "# --- Test Sampling ---\n",
    "print(\"\\n🧪 Sampling Test:\")\n",
    "print(f\"Simple Sample for {example_player.name}: {sample_score_simple(example_player)}\")\n",
    "print(f\"Weighted Sample for {example_player.name}: {sample_score_weighted(example_player)}\")"
   ]
  },
  {
   "cell_type": "code",
   "execution_count": null,
   "id": "12",
   "metadata": {},
   "outputs": [],
   "source": [
    "# --- Save player names (optional) ---\n",
    "player_names = [p.name for p in (players.values() if isinstance(players, dict) else players)]"
   ]
  },
  {
   "cell_type": "code",
   "execution_count": null,
   "id": "13",
   "metadata": {},
   "outputs": [],
   "source": [
    "# --- Print Top Players by Average Net Score with Fixed Columns ---\n",
    "\n",
    "def calculate_and_print_player_net_stats(players, top_n=20, min_rounds=5):\n",
    "    \"\"\"\n",
    "    Calculate and print top players based on average net score.\n",
    "    \n",
    "    Args:\n",
    "        players: list or dict of Player objects\n",
    "        top_n: number of top players to display\n",
    "        min_rounds: minimum number of rounds a player must have to be considered\n",
    "    \"\"\"\n",
    "    player_stats = []\n",
    "\n",
    "    player_list = players.values() if isinstance(players, dict) else players\n",
    "\n",
    "    for player in player_list:\n",
    "        net_scores = [round_info.net for round_info in player.rounds if round_info.net is not None]\n",
    "        if len(net_scores) >= min_rounds:\n",
    "            avg_net = np.mean(net_scores)\n",
    "            std_net = np.std(net_scores)\n",
    "            num_rounds = len(net_scores)\n",
    "            player_stats.append((player.name, avg_net, std_net, num_rounds))\n",
    "    \n",
    "    # Sort by lowest average net score\n",
    "    player_stats.sort(key=lambda x: x[1])\n",
    "\n",
    "    # --- Print ---\n",
    "    header = \"{:<5} {:<25} {:>15} {:>12} {:>10}\".format(\"Rank\", \"Player Name\", \"Avg Net Score\", \"Std Dev\", \"Rounds\")\n",
    "    print(f\"\\n🏌️ Top {top_n} Players by Average Net Score (Minimum {min_rounds} Rounds):\\n\")\n",
    "    print(header)\n",
    "    print(\"-\" * len(header))\n",
    "\n",
    "    for idx, (name, avg_score, std_dev, num_rounds) in enumerate(player_stats[:top_n], start=1):\n",
    "        row = \"{:<5} {:<25} {:>15.2f} {:>12.2f} {:>10}\".format(idx, name, avg_score, std_dev, num_rounds)\n",
    "        print(row)\n",
    "\n",
    "# --- Example Usage ---\n",
    "\n",
    "calculate_and_print_player_net_stats(players, top_n=50, min_rounds=4)"
   ]
  }
 ],
 "metadata": {
  "kernelspec": {
   "display_name": "Python (hf-pt)",
   "language": "python",
   "name": "hf-pt"
  },
  "language_info": {
   "codemirror_mode": {
    "name": "ipython",
    "version": 3
   },
   "file_extension": ".py",
   "mimetype": "text/x-python",
   "name": "python",
   "nbconvert_exporter": "python",
   "pygments_lexer": "ipython3",
   "version": "3.10.16"
  }
 },
 "nbformat": 4,
 "nbformat_minor": 5
}
