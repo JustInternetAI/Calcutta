{
 "cells": [
  {
   "cell_type": "markdown",
   "id": "0",
   "metadata": {},
   "source": [
    "# 📓 01_player_sampling_and_stats.ipynb\n",
    "**Purpose:** Load player data, inspect it, and prepare for performance modeling."
   ]
  },
  {
   "cell_type": "code",
   "execution_count": null,
   "id": "1",
   "metadata": {},
   "outputs": [],
   "source": [
    "import pickle\n",
    "import random\n",
    "import matplotlib.pyplot as plt\n",
    "import numpy as np\n",
    "from golf_classes import Player, PlayerRoundInfo, Tournament, Round, Team"
   ]
  },
  {
   "cell_type": "code",
   "execution_count": null,
   "id": "2",
   "metadata": {},
   "outputs": [],
   "source": [
    "# --- Configuration ---\n",
    "PICKLE_FILE = 'golf_data.pkl'  \n",
    "\n",
    "# --- Load Player and Tournament Data ---\n",
    "def load_data(filename=PICKLE_FILE):\n",
    "    with open(filename, 'rb') as f:\n",
    "        data = pickle.load(f)\n",
    "    return data['players'], data['tournaments']"
   ]
  },
  {
   "cell_type": "code",
   "execution_count": null,
   "id": "3",
   "metadata": {},
   "outputs": [],
   "source": [
    "players, tournaments = load_data(PICKLE_FILE)\n",
    "\n",
    "print(f\"✅ Loaded {len(players)} players and {len(tournaments)} tournaments from {PICKLE_FILE}\")\n",
    "\n"
   ]
  },
  {
   "cell_type": "code",
   "execution_count": null,
   "id": "4",
   "metadata": {},
   "outputs": [],
   "source": [
    "# --- Inspect Example Player ---\n",
    "example_player = next(iter(players.values() if isinstance(players, dict) else players))\n",
    "\n",
    "print(f\"Example Player: {example_player.name}\")\n",
    "print(f\"Total Rounds Recorded: {len(example_player.rounds)}\")\n",
    "\n",
    "# Print some details for the first few rounds\n",
    "for i, round_info in enumerate(example_player.rounds[:5]):  # Show up to 5 rounds\n",
    "    print(f\" Round {i+1}:\")\n",
    "    print(f\"  Tournament: {round_info.tournament_name}\")\n",
    "    print(f\"  Round Number: {round_info.round_number}\")\n",
    "    print(f\"  Handicap: {round_info.handicap}\")\n",
    "    print(f\"  Tee: {round_info.tee}\")\n",
    "    print(f\"  Net Score: {round_info.net}\")\n",
    "    print(f\"  Total Gross Score: {round_info.total}\")"
   ]
  },
  {
   "cell_type": "code",
   "execution_count": null,
   "id": "5",
   "metadata": {},
   "outputs": [],
   "source": [
    "# --- Statistics ---\n",
    "\n",
    "# Make sure players is either a list or dictionary\n",
    "player_list = players.values() if isinstance(players, dict) else players\n",
    "\n",
    "# Number of players\n",
    "num_players = len(player_list)\n",
    "\n",
    "# Number of rounds per player\n",
    "rounds_per_player = [len(player.rounds) for player in player_list]\n",
    "\n",
    "# All net scores and valid handicaps across all players and rounds\n",
    "all_net_scores = []\n",
    "all_handicaps = []\n",
    "\n",
    "for player in player_list:\n",
    "    for round_info in player.rounds:\n",
    "        all_net_scores.append(round_info.net)\n",
    "        if round_info.handicap is not None and not np.isnan(round_info.handicap):\n",
    "            all_handicaps.append(round_info.handicap)\n",
    "\n",
    "# Print statistics\n",
    "print(f\"\\nStatistics:\")\n",
    "print(f\"Total Players: {num_players}\")\n",
    "print(f\"Average Rounds per Player: {np.mean(rounds_per_player):.2f}\")\n",
    "print(f\"Min Rounds per Player: {np.min(rounds_per_player)}\")\n",
    "print(f\"Max Rounds per Player: {np.max(rounds_per_player)}\")\n",
    "\n",
    "if all_net_scores:\n",
    "    print(f\"\\nNet Score Statistics:\")\n",
    "    print(f\"  Average Net Score: {np.mean(all_net_scores):.2f}\")\n",
    "    print(f\"  Net Score Range: {np.min(all_net_scores)} to {np.max(all_net_scores)}\")\n",
    "\n",
    "if all_handicaps:\n",
    "    print(f\"\\nHandicap Statistics:\")\n",
    "    print(f\"  Average Handicap: {np.mean(all_handicaps):.2f}\")\n",
    "    print(f\"  Handicap Range: {np.min(all_handicaps)} to {np.max(all_handicaps)}\")\n",
    "else:\n",
    "    print(\"\\n⚠️ Warning: No valid handicaps found.\")\n"
   ]
  },
  {
   "cell_type": "code",
   "execution_count": null,
   "id": "6",
   "metadata": {},
   "outputs": [],
   "source": [
    "# --- Plot Net Score Distribution ---\n",
    "plt.hist(all_net_scores, bins=30, edgecolor='black')\n",
    "plt.title('Distribution of Net Scores (All Players)')\n",
    "plt.xlabel('Net Score')\n",
    "plt.ylabel('Frequency')\n",
    "plt.grid(True)\n",
    "plt.show()\n",
    "\n",
    "# --- Plot Handicap Distribution ---\n",
    "plt.hist(all_handicaps, bins=range(int(min(all_handicaps)) - 1, int(max(all_handicaps)) + 2), edgecolor='black')\n",
    "plt.title('Distribution of Handicaps (All Players)')\n",
    "plt.xlabel('Handicap')\n",
    "plt.ylabel('Frequency')\n",
    "plt.grid(True)\n",
    "plt.show()"
   ]
  },
  {
   "cell_type": "code",
   "execution_count": null,
   "id": "7",
   "metadata": {},
   "outputs": [],
   "source": [
    "# --- Optional: Plot rounds per player ---\n",
    "plt.hist(rounds_per_player, bins=range(0, max(rounds_per_player)+5, 2), edgecolor='black')\n",
    "plt.title('Distribution of Rounds per Player')\n",
    "plt.xlabel('Number of Rounds')\n",
    "plt.ylabel('Number of Players')\n",
    "plt.grid(True)\n",
    "plt.show()"
   ]
  },
  {
   "cell_type": "code",
   "execution_count": null,
   "id": "8",
   "metadata": {},
   "outputs": [],
   "source": [
    "# --- Ready for Sampling Model ---\n",
    "\n",
    "def sample_score_simple(player):\n",
    "    return random.choice(player.historical_scores)\n",
    "\n",
    "def sample_score_weighted(player, decay_factor=0.9):\n",
    "    scores = player.historical_scores\n",
    "    n = len(scores)\n",
    "    weights = [decay_factor ** (n - i - 1) for i in range(n)]\n",
    "    return random.choices(scores, weights=weights, k=1)[0]"
   ]
  },
  {
   "cell_type": "code",
   "execution_count": null,
   "id": "9",
   "metadata": {},
   "outputs": [],
   "source": [
    "# --- Test Sampling ---\n",
    "print(\"\\n🧪 Sampling Test:\")\n",
    "print(f\"Simple Sample for {example_player.name}: {sample_score_simple(example_player)}\")\n",
    "print(f\"Weighted Sample for {example_player.name}: {sample_score_weighted(example_player)}\")"
   ]
  },
  {
   "cell_type": "code",
   "execution_count": null,
   "id": "10",
   "metadata": {},
   "outputs": [],
   "source": [
    "# --- Save player names (optional) ---\n",
    "player_names = [p.name for p in (players.values() if isinstance(players, dict) else players)]"
   ]
  }
 ],
 "metadata": {
  "kernelspec": {
   "display_name": "Python (hf-pt)",
   "language": "python",
   "name": "hf-pt"
  },
  "language_info": {
   "codemirror_mode": {
    "name": "ipython",
    "version": 3
   },
   "file_extension": ".py",
   "mimetype": "text/x-python",
   "name": "python",
   "nbconvert_exporter": "python",
   "pygments_lexer": "ipython3",
   "version": "3.10.16"
  }
 },
 "nbformat": 4,
 "nbformat_minor": 5
}
