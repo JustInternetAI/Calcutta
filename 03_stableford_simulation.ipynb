{
 "cells": [
  {
   "cell_type": "markdown",
   "id": "0",
   "metadata": {},
   "source": [
    "# 📓 03_stableford_simulation.ipynb\n",
    "**Purpose:** Corrected Monte Carlo simulation using Stableford scoring based on per-hole par values."
   ]
  },
  {
   "cell_type": "code",
   "execution_count": null,
   "id": "1",
   "metadata": {},
   "outputs": [],
   "source": [
    "import pickle\n",
    "import random\n",
    "import numpy as np\n",
    "from collections import defaultdict\n",
    "from golf_classes import Player, PlayerRoundInfo, Tournament, Round, Team"
   ]
  },
  {
   "cell_type": "code",
   "execution_count": null,
   "id": "2",
   "metadata": {},
   "outputs": [],
   "source": [
    "# --- Load Data ---\n",
    "\n",
    "def load_data(filename='golf_data.pkl'):\n",
    "    with open(filename, 'rb') as f:\n",
    "        data = pickle.load(f)\n",
    "    return data['players'], data['tournaments']\n",
    "\n",
    "PICKLE_FILE = 'golf_data.pkl'  \n",
    "players, tournaments = load_data(PICKLE_FILE)\n",
    "print(f\"✅ Loaded {len(players)} players and {len(tournaments)} tournaments.\")"
   ]
  },
  {
   "cell_type": "code",
   "execution_count": null,
   "id": "3",
   "metadata": {},
   "outputs": [],
   "source": [
    "# --- Course Setup ---\n",
    "hole_handicap_ratings = [5, 13, 17, 3, 11, 9, 1, 15, 7, 10, 6, 18, 14, 2, 16, 4, 12, 8]\n",
    "hole_pars = [4, 4, 3, 4, 3, 4, 4, 5, 4, 4, 4, 3, 5, 4, 3, 4, 5, 4]"
   ]
  },
  {
   "cell_type": "code",
   "execution_count": null,
   "id": "4",
   "metadata": {},
   "outputs": [],
   "source": [
    "# --- Compute strokes received per hole ---\n",
    "def strokes_received_per_hole(player_handicap):\n",
    "    strokes = [0] * 18\n",
    "    for i in range(18):\n",
    "        hcap = hole_handicap_ratings[i]\n",
    "        if player_handicap >= hcap:\n",
    "            strokes[i] += 1\n",
    "        if player_handicap > 18 and player_handicap >= hcap + 18:\n",
    "            strokes[i] += 1\n",
    "    return strokes"
   ]
  },
  {
   "cell_type": "code",
   "execution_count": null,
   "id": "5",
   "metadata": {},
   "outputs": [],
   "source": [
    "# --- Convert net score to Stableford points ---\n",
    "def stableford_points(net_score):\n",
    "    if net_score >= 2:\n",
    "        return -2  # Double bogey or worse\n",
    "    elif net_score == 1:\n",
    "        return 0   # Bogey\n",
    "    elif net_score == 0:\n",
    "        return 1   # Par\n",
    "    elif net_score == -1:\n",
    "        return 3   # Birdie\n",
    "    elif net_score == -2:\n",
    "        return 5   # Eagle\n",
    "    else:\n",
    "        return 7   # Double eagle or better\n"
   ]
  },
  {
   "cell_type": "code",
   "execution_count": null,
   "id": "6",
   "metadata": {},
   "outputs": [],
   "source": [
    "# --- Calculate Stableford points for a round ---\n",
    "def calculate_stableford_round(player_round):\n",
    "    if not player_round.hole_scores or len(player_round.hole_scores) != 18:\n",
    "        return None\n",
    "\n",
    "    gross_scores = player_round.hole_scores\n",
    "    handicap = player_round.handicap\n",
    "    strokes = strokes_received_per_hole(handicap)\n",
    "\n",
    "    total_points = 0\n",
    "    for i in range(18):\n",
    "        try:\n",
    "            gross_score = float(gross_scores[i])\n",
    "        except (ValueError, TypeError):\n",
    "            return None\n",
    "\n",
    "        net = gross_score - strokes[i]\n",
    "        net_relative_to_par = round(net - hole_pars[i])\n",
    "        stableford = stableford_points(net_relative_to_par)\n",
    "\n",
    "        total_points += stableford\n",
    "\n",
    "    return total_points"
   ]
  },
  {
   "cell_type": "code",
   "execution_count": null,
   "id": "7",
   "metadata": {},
   "outputs": [],
   "source": [
    "# --- Sample Stableford score for a player ---\n",
    "def sample_stableford_score(player):\n",
    "    if not player.rounds:\n",
    "        return None\n",
    "    round_info = random.choice(player.rounds)\n",
    "    return calculate_stableford_round(round_info)"
   ]
  },
  {
   "cell_type": "code",
   "execution_count": null,
   "id": "8",
   "metadata": {},
   "outputs": [],
   "source": [
    "# --- Simulate team Stableford score ---\n",
    "def simulate_team_stableford_score(team):\n",
    "    player_scores = []\n",
    "    for player in team.members:\n",
    "        score = sample_stableford_score(player)\n",
    "        if score is not None:\n",
    "            player_scores.append(score)\n",
    "\n",
    "    if len(player_scores) < 4:\n",
    "        return float('-inf')  # Invalid team\n",
    "\n",
    "    return sum(sorted(player_scores, reverse=True)[:4])"
   ]
  },
  {
   "cell_type": "code",
   "execution_count": null,
   "id": "9",
   "metadata": {},
   "outputs": [],
   "source": [
    "# --- Simulate Stableford tournament ---\n",
    "def simulate_stableford_tournament(teams, num_simulations=10000):\n",
    "    team_scores = defaultdict(list)\n",
    "\n",
    "    for _ in range(num_simulations):\n",
    "        for team in teams:\n",
    "            score = simulate_team_stableford_score(team)\n",
    "            team_scores[team.name].append(score)\n",
    "\n",
    "    team_averages = {name: np.mean(scores) for name, scores in team_scores.items()}\n",
    "    return team_averages"
   ]
  },
  {
   "cell_type": "code",
   "execution_count": null,
   "id": "10",
   "metadata": {},
   "outputs": [],
   "source": [
    "# --- Example Team Class and Simulation ---\n",
    "class Team:\n",
    "    def __init__(self, name, members):\n",
    "        self.name = name\n",
    "        self.members = members\n",
    "\n",
    "# Random example teams\n",
    "example_teams = [\n",
    "    Team(\"Team A\", random.sample(list(players.values()), 6)),\n",
    "    Team(\"Team B\", random.sample(list(players.values()), 6))\n",
    "]\n",
    "\n",
    "# Run simulation\n",
    "results = simulate_stableford_tournament(example_teams, num_simulations=10000)\n",
    "\n",
    "# Print results\n",
    "print(\"\\n🏆 Team Stableford Averages:\")\n",
    "for name, avg in sorted(results.items(), key=lambda x: -x[1]):\n",
    "    print(f\"{name}: {avg:.2f} points\")"
   ]
  },
  {
   "cell_type": "code",
   "execution_count": null,
   "id": "11",
   "metadata": {},
   "outputs": [],
   "source": []
  }
 ],
 "metadata": {
  "kernelspec": {
   "display_name": "Python (hf-pt)",
   "language": "python",
   "name": "hf-pt"
  },
  "language_info": {
   "codemirror_mode": {
    "name": "ipython",
    "version": 3
   },
   "file_extension": ".py",
   "mimetype": "text/x-python",
   "name": "python",
   "nbconvert_exporter": "python",
   "pygments_lexer": "ipython3",
   "version": "3.10.16"
  }
 },
 "nbformat": 4,
 "nbformat_minor": 5
}
