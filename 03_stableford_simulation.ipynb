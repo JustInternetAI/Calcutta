{
 "cells": [
  {
   "cell_type": "markdown",
   "id": "0",
   "metadata": {},
   "source": [
    "# 📓 03_stableford_simulation.ipynb\n",
    "**Purpose:** Run Monte Carlo tournament simulations using Stableford scoring based on hole-by-hole net scores."
   ]
  },
  {
   "cell_type": "code",
   "execution_count": null,
   "id": "1",
   "metadata": {},
   "outputs": [],
   "source": [
    "import pickle\n",
    "import random\n",
    "import numpy as np\n",
    "from collections import defaultdict\n",
    "from golf_classes import Player, PlayerRoundInfo, Tournament, Round, Team"
   ]
  },
  {
   "cell_type": "code",
   "execution_count": null,
   "id": "2",
   "metadata": {},
   "outputs": [],
   "source": [
    "\n",
    "# --- Load Data ---\n",
    "\n",
    "def load_data(filename='golf_data.pkl'):\n",
    "    with open(filename, 'rb') as f:\n",
    "        data = pickle.load(f)\n",
    "    return data['players'], data['tournaments']\n",
    "\n",
    "PICKLE_FILE = 'golf_data.pkl'  \n",
    "players, tournaments = load_data(PICKLE_FILE)\n",
    "print(f\"✅ Loaded {len(players)} players and {len(tournaments)} tournaments.\")\n",
    "\n",
    "\n"
   ]
  },
  {
   "cell_type": "code",
   "execution_count": null,
   "id": "3",
   "metadata": {},
   "outputs": [],
   "source": [
    "# --- Course Hole Handicaps (Men's) ---\n",
    "hole_handicap_ratings = [5, 13, 17, 3, 11, 9, 1, 15, 7, 10, 6, 18, 14, 2, 16, 4, 12, 8]"
   ]
  },
  {
   "cell_type": "code",
   "execution_count": null,
   "id": "4",
   "metadata": {},
   "outputs": [],
   "source": [
    "# --- Compute strokes received per hole ---\n",
    "def strokes_received_per_hole(player_handicap):\n",
    "    strokes = [0] * 18\n",
    "    for i in range(18):\n",
    "        hcap = hole_handicap_ratings[i]\n",
    "        if player_handicap >= hcap:\n",
    "            strokes[i] += 1\n",
    "        if player_handicap > 18 and player_handicap >= hcap + 18:\n",
    "            strokes[i] += 1\n",
    "    return strokes"
   ]
  },
  {
   "cell_type": "code",
   "execution_count": null,
   "id": "5",
   "metadata": {},
   "outputs": [],
   "source": [
    "# --- Convert net score to Stableford points ---\n",
    "def stableford_points(net_score):\n",
    "    if net_score <= -2:\n",
    "        return -2\n",
    "    elif net_score == -1:\n",
    "        return 0\n",
    "    elif net_score == 0:\n",
    "        return 1\n",
    "    elif net_score == 1:\n",
    "        return 3\n",
    "    elif net_score == 2:\n",
    "        return 5\n",
    "    else:\n",
    "        return 7"
   ]
  },
  {
   "cell_type": "code",
   "execution_count": null,
   "id": "6",
   "metadata": {},
   "outputs": [],
   "source": [
    "# --- Calculate Stableford points for a round ---\n",
    "def calculate_stableford_round(player_round):\n",
    "    if not player_round.hole_scores or len(player_round.hole_scores) != 18:\n",
    "        return None\n",
    "\n",
    "    gross_scores = player_round.hole_scores\n",
    "    handicap = player_round.handicap\n",
    "    strokes = strokes_received_per_hole(handicap)\n",
    "\n",
    "    total_points = 0\n",
    "    for i in range(18):\n",
    "        net = int(gross_scores[i]) - strokes[i]\n",
    "        net_relative_to_par = net - 4  # assume par 4 for simplicity\n",
    "        net_relative_to_par = round(net_relative_to_par)\n",
    "        total_points += stableford_points(net_relative_to_par)\n",
    "\n",
    "    return total_points"
   ]
  },
  {
   "cell_type": "code",
   "execution_count": null,
   "id": "7",
   "metadata": {},
   "outputs": [],
   "source": [
    "# --- Sample Stableford score for a player ---\n",
    "def sample_stableford_score(player):\n",
    "    if not player.rounds:\n",
    "        return None\n",
    "    round_info = random.choice(player.rounds)\n",
    "    return calculate_stableford_round(round_info)"
   ]
  },
  {
   "cell_type": "code",
   "execution_count": null,
   "id": "8",
   "metadata": {},
   "outputs": [],
   "source": [
    "# --- Simulate team Stableford score ---\n",
    "def simulate_team_stableford_score(team):\n",
    "    player_scores = []\n",
    "    for player in team.members:\n",
    "        score = sample_stableford_score(player)\n",
    "        if score is not None:\n",
    "            player_scores.append(score)\n",
    "\n",
    "    if len(player_scores) < 4:\n",
    "        return float('-inf')  # Invalid team\n",
    "\n",
    "    return sum(sorted(player_scores, reverse=True)[:4])"
   ]
  },
  {
   "cell_type": "code",
   "execution_count": null,
   "id": "9",
   "metadata": {},
   "outputs": [],
   "source": [
    "# --- Simulate Stableford tournament ---\n",
    "def simulate_stableford_tournament(teams, num_simulations=10000):\n",
    "    team_scores = defaultdict(list)\n",
    "\n",
    "    for _ in range(num_simulations):\n",
    "        for team in teams:\n",
    "            score = simulate_team_stableford_score(team)\n",
    "            team_scores[team.name].append(score)\n",
    "\n",
    "    team_averages = {name: np.mean(scores) for name, scores in team_scores.items()}\n",
    "    return team_averages"
   ]
  },
  {
   "cell_type": "code",
   "execution_count": null,
   "id": "10",
   "metadata": {},
   "outputs": [],
   "source": [
    "# --- Example Team Class and Simulation ---\n",
    "class Team:\n",
    "    def __init__(self, name, members):\n",
    "        self.name = name\n",
    "        self.members = members\n",
    "\n",
    "# Randomly create example teams\n",
    "example_teams = [\n",
    "    Team(\"Team A\", random.sample(list(players.values()), 6)),\n",
    "    Team(\"Team B\", random.sample(list(players.values()), 6))\n",
    "]\n",
    "\n",
    "# Run simulation\n",
    "results = simulate_stableford_tournament(example_teams, num_simulations=10000)\n",
    "\n",
    "# Print results\n",
    "print(\"\\n🏆 Team Stableford Averages:\")\n",
    "for name, avg in sorted(results.items(), key=lambda x: -x[1]):\n",
    "    print(f\"{name}: {avg:.2f} points\")"
   ]
  },
  {
   "cell_type": "code",
   "execution_count": null,
   "id": "11",
   "metadata": {},
   "outputs": [],
   "source": [
    "# --- Helper to find corrupted rounds ---\n",
    "\n",
    "def find_corrupt_rounds(players):\n",
    "    bad_rounds = []\n",
    "    player_list = players.values() if isinstance(players, dict) else players\n",
    "\n",
    "    for player in player_list:\n",
    "        for rnd in player.rounds:\n",
    "            for score in rnd.hole_scores:\n",
    "                if not isinstance(score, (int, float)):\n",
    "                    try:\n",
    "                        float(score)\n",
    "                    except (ValueError, TypeError):\n",
    "                        bad_rounds.append((player.name, score))\n",
    "    return bad_rounds\n",
    "\n",
    "# Example usage\n",
    "corrupt = find_corrupt_rounds(players)\n",
    "for player_name, bad_score in corrupt:\n",
    "    print(f\"Corrupt score '{bad_score}' found for player {player_name}\")"
   ]
  },
  {
   "cell_type": "code",
   "execution_count": null,
   "id": "12",
   "metadata": {},
   "outputs": [],
   "source": [
    "# --- Helper to Print Sections of Player Data ---\n",
    "\n",
    "def inspect_player_rounds(players, start_idx=0, num_players=5):\n",
    "    \"\"\"\n",
    "    Print sections of player data to manually inspect hole_scores.\n",
    "    Args:\n",
    "        players: dict or list of Player objects\n",
    "        start_idx: starting index in the player list\n",
    "        num_players: how many players to show\n",
    "    \"\"\"\n",
    "    player_list = list(players.values()) if isinstance(players, dict) else list(players)\n",
    "    \n",
    "    for i, player in enumerate(player_list[start_idx:start_idx+num_players], start=start_idx):\n",
    "        print(f\"\\n=== Player {i}: {player.name} ===\")\n",
    "        for j, round_info in enumerate(player.rounds):\n",
    "            print(f\"  Round {j}: Tournament={round_info.tournament_name}, RoundNum={round_info.round_number}, Handicap={round_info.handicap}\")\n",
    "            print(f\"    Hole Scores: {round_info.hole_scores}\")\n",
    "            \n",
    "            # Check if any gross score is suspicious\n",
    "            for k, score in enumerate(round_info.hole_scores):\n",
    "                try:\n",
    "                    _ = float(score)\n",
    "                except (ValueError, TypeError):\n",
    "                    print(f\"    ⚠️ Suspicious score at hole {k+1}: '{score}'\")"
   ]
  },
  {
   "cell_type": "code",
   "execution_count": null,
   "id": "13",
   "metadata": {},
   "outputs": [],
   "source": [
    "# See first 5 players\n",
    "inspect_player_rounds(players, start_idx=0, num_players=5)\n",
    "\n",
    "# See players 10–15\n",
    "#inspect_player_rounds(players, start_idx=10, num_players=5)\n",
    "\n",
    "# See players 50–60\n",
    "#inspect_player_rounds(players, start_idx=50, num_players=10)"
   ]
  },
  {
   "cell_type": "code",
   "execution_count": null,
   "id": "14",
   "metadata": {},
   "outputs": [],
   "source": [
    "# --- Calculate and Print Player Stableford Averages ---\n",
    "\n",
    "def calculate_and_print_player_stableford_stats(players, top_n=20, min_rounds=5):\n",
    "    \"\"\"\n",
    "    Calculate and print top players based on average Stableford score across their rounds.\n",
    "    \n",
    "    Args:\n",
    "        players: dict or list of Player objects\n",
    "        top_n: number of top players to display\n",
    "        min_rounds: minimum number of rounds a player must have to be considered\n",
    "    \"\"\"\n",
    "    player_stats = []\n",
    "\n",
    "    player_list = players.values() if isinstance(players, dict) else players\n",
    "\n",
    "    for player in player_list:\n",
    "        stableford_scores = []\n",
    "        for rnd in player.rounds:\n",
    "            score = calculate_stableford_round(rnd)\n",
    "            if score is not None:\n",
    "                stableford_scores.append(score)\n",
    "\n",
    "        if len(stableford_scores) >= min_rounds:\n",
    "            avg_stableford = np.mean(stableford_scores)\n",
    "            std_stableford = np.std(stableford_scores)\n",
    "            num_rounds = len(stableford_scores)\n",
    "            player_stats.append((player.name, avg_stableford, std_stableford, num_rounds))\n",
    "    \n",
    "    # Sort by highest average Stableford (higher is better in Stableford!)\n",
    "    player_stats.sort(key=lambda x: -x[1])\n",
    "\n",
    "    # --- Print ---\n",
    "    header = \"{:<5} {:<25} {:>15} {:>12} {:>10}\".format(\"Rank\", \"Player Name\", \"Avg Stableford\", \"Std Dev\", \"Rounds\")\n",
    "    print(f\"\\n🏌️ Top {top_n} Players by Average Stableford Score (Minimum {min_rounds} Rounds):\\n\")\n",
    "    print(header)\n",
    "    print(\"-\" * len(header))\n",
    "\n",
    "    for idx, (name, avg_score, std_dev, num_rounds) in enumerate(player_stats[:top_n], start=1):\n",
    "        row = \"{:<5} {:<25} {:>15.2f} {:>12.2f} {:>10}\".format(idx, name, avg_score, std_dev, num_rounds)\n",
    "        print(row)\n"
   ]
  },
  {
   "cell_type": "code",
   "execution_count": null,
   "id": "15",
   "metadata": {},
   "outputs": [],
   "source": [
    "calculate_and_print_player_stableford_stats(players, top_n=20, min_rounds=5)"
   ]
  }
 ],
 "metadata": {
  "kernelspec": {
   "display_name": "Python (hf-pt)",
   "language": "python",
   "name": "hf-pt"
  },
  "language_info": {
   "codemirror_mode": {
    "name": "ipython",
    "version": 3
   },
   "file_extension": ".py",
   "mimetype": "text/x-python",
   "name": "python",
   "nbconvert_exporter": "python",
   "pygments_lexer": "ipython3",
   "version": "3.10.16"
  }
 },
 "nbformat": 4,
 "nbformat_minor": 5
}
